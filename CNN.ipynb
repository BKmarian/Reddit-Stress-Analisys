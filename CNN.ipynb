{
 "cells": [
  {
   "cell_type": "code",
   "execution_count": 1,
   "metadata": {
    "pycharm": {
     "is_executing": true,
     "name": "#%%\n"
    }
   },
   "outputs": [],
   "source": [
    "import nltk\n",
    "from keras.preprocessing.sequence import pad_sequences\n",
    "from keras_preprocessing.text import Tokenizer\n",
    "from nltk import WordNetLemmatizer, PorterStemmer, RegexpTokenizer\n",
    "from sklearn.preprocessing import OrdinalEncoder, LabelEncoder\n",
    "import pickle\n",
    "import warnings\n",
    "from sklearn.metrics import f1_score\n",
    "from nltk.corpus import stopwords\n",
    "import keras\n",
    "import tensorflow as tf\n",
    "import matplotlib.pyplot as plt\n",
    "import numpy as np\n",
    "import pandas as pd\n",
    "import pydotplus as pyd\n",
    "import seaborn as sns\n",
    "from gensim.models import KeyedVectors\n",
    "from keras import backend as K\n",
    "from keras.callbacks import ModelCheckpoint, TensorBoard, EarlyStopping, ReduceLROnPlateau\n",
    "from keras.layers import Dense, Input, Flatten, Embedding, Conv1D, MaxPooling1D, Dropout, concatenate\n",
    "from keras.models import Model, Sequential\n",
    "from sklearn.metrics import confusion_matrix,accuracy_score,f1_score\n",
    "from keras.utils.np_utils import to_categorical\n",
    "warnings.filterwarnings('ignore')\n",
    "\n",
    "%matplotlib inline"
   ]
  },
  {
   "cell_type": "code",
   "execution_count": 2,
   "metadata": {
    "pycharm": {
     "name": "#%%\n"
    }
   },
   "outputs": [],
   "source": [
    "from gensim.models import Word2Vec\n",
    "from gensim.test.utils import common_texts\n",
    "from gensim.models.doc2vec import Doc2Vec, TaggedDocument"
   ]
  },
  {
   "cell_type": "code",
   "execution_count": 3,
   "metadata": {
    "pycharm": {
     "name": "#%%\n"
    }
   },
   "outputs": [
    {
     "name": "stderr",
     "output_type": "stream",
     "text": [
      "[nltk_data] Downloading package stopwords to\n",
      "[nltk_data]     C:\\Users\\sichi\\AppData\\Roaming\\nltk_data...\n",
      "[nltk_data]   Package stopwords is already up-to-date!\n",
      "[nltk_data] Downloading package wordnet to\n",
      "[nltk_data]     C:\\Users\\sichi\\AppData\\Roaming\\nltk_data...\n",
      "[nltk_data]   Package wordnet is already up-to-date!\n"
     ]
    }
   ],
   "source": [
    "nltk.download('stopwords')\n",
    "nltk.download('wordnet')\n",
    "\n",
    "warnings.filterwarnings(\"ignore\")"
   ]
  },
  {
   "cell_type": "code",
   "execution_count": 4,
   "metadata": {
    "pycharm": {
     "name": "#%%\n"
    }
   },
   "outputs": [],
   "source": [
    "# path = '/content/Insight_Stress_Analysis/data/'\n",
    "path = '../data/'\n",
    "train = pd.read_csv(path + 'dreaddit-train-processed.csv', encoding = \"ISO-8859-1\")\n",
    "test = pd.read_csv(path + 'dreaddit-test-processed.csv', encoding = \"ISO-8859-1\")"
   ]
  },
  {
   "cell_type": "code",
   "execution_count": 5,
   "metadata": {
    "pycharm": {
     "name": "#%%\n"
    }
   },
   "outputs": [
    {
     "name": "stdout",
     "output_type": "stream",
     "text": [
      "Index(['Unnamed: 0', 'lex_liwc_WC', 'lex_liwc_Analytic', 'lex_liwc_Clout',\n",
      "       'lex_liwc_Authentic', 'lex_liwc_Tone', 'lex_liwc_WPS',\n",
      "       'lex_liwc_Sixltr', 'lex_liwc_Dic', 'lex_liwc_function',\n",
      "       ...\n",
      "       'lex_dal_min_pleasantness', 'lex_dal_min_activation',\n",
      "       'lex_dal_min_imagery', 'lex_dal_avg_activation', 'lex_dal_avg_imagery',\n",
      "       'lex_dal_avg_pleasantness', 'social_upvote_ratio',\n",
      "       'social_num_comments', 'syntax_fk_grade', 'sentiment'],\n",
      "      dtype='object', length=107)\n"
     ]
    }
   ],
   "source": [
    "features_train = train.drop(['id','subreddit','post_id','sentence_range','text','label','confidence','social_timestamp','social_karma','syntax_ari','processed_text'], 1)\n",
    "features_test = test.drop(['id','subreddit','post_id','sentence_range','text','label','confidence','social_timestamp','social_karma','syntax_ari','processed_text'], 1)\n",
    "\n",
    "print(features_train.columns)\n",
    "features_len = len(features_train.columns)"
   ]
  },
  {
   "cell_type": "code",
   "execution_count": 6,
   "metadata": {},
   "outputs": [],
   "source": [
    "def prepare_inputs(X_train, X_test):\n",
    "    oe = OrdinalEncoder()\n",
    "    oe.fit(X_train)\n",
    "    X_train_enc = oe.transform(X_train)\n",
    "    X_test_enc = oe.transform(X_test)\n",
    "    return X_train_enc, X_test_enc\n",
    "\n",
    "def prepare_targets(y_train, y_test):\n",
    "    le = LabelEncoder()\n",
    "    le.fit(y_train)\n",
    "    y_train_enc = le.transform(y_train)\n",
    "    y_test_enc = le.transform(y_test)\n",
    "    return y_train_enc, y_test_enc"
   ]
  },
  {
   "cell_type": "code",
   "execution_count": 7,
   "metadata": {
    "pycharm": {
     "name": "#%%\n"
    }
   },
   "outputs": [],
   "source": [
    "# # prepare input data\n",
    "# X_train_enc, X_test_enc = prepare_inputs(features_train, features_test)\n",
    "# # prepare output data\n",
    "# y_train_enc, y_test_enc = prepare_targets(train[\"label\"], test[\"label\"])"
   ]
  },
  {
   "cell_type": "code",
   "execution_count": 8,
   "metadata": {
    "pycharm": {
     "is_executing": true
    }
   },
   "outputs": [],
   "source": [
    "w2v_model = KeyedVectors.load_word2vec_format('../GoogleNews-vectors-negative300.bin', binary=True)"
   ]
  },
  {
   "cell_type": "code",
   "execution_count": 9,
   "metadata": {
    "pycharm": {
     "is_executing": true,
     "name": "#%%\n"
    }
   },
   "outputs": [
    {
     "name": "stdout",
     "output_type": "stream",
     "text": [
      "8566\n"
     ]
    }
   ],
   "source": [
    "t = Tokenizer()\n",
    "#all_text = pd.concat(train['processed_text'],test['processed_text'])\n",
    "t.fit_on_texts(train['processed_text'].values)\n",
    "vocab_size = len(t.word_index) + 1\n",
    "print(vocab_size)"
   ]
  },
  {
   "cell_type": "code",
   "execution_count": 10,
   "metadata": {
    "pycharm": {
     "is_executing": true,
     "name": "#%%\n"
    }
   },
   "outputs": [],
   "source": [
    "encoded_comments_train = t.texts_to_sequences(train['processed_text'])\n",
    "encoded_comments_test = t.texts_to_sequences(test['processed_text'])"
   ]
  },
  {
   "cell_type": "code",
   "execution_count": 11,
   "metadata": {
    "pycharm": {
     "is_executing": true,
     "name": "#%%\n"
    }
   },
   "outputs": [],
   "source": [
    "max_length = 512\n",
    "padded_comments_train = pad_sequences(encoded_comments_train, maxlen=max_length, padding='post')\n",
    "padded_comments_test = pad_sequences(encoded_comments_test, maxlen=max_length, padding='post')"
   ]
  },
  {
   "cell_type": "code",
   "execution_count": 12,
   "metadata": {
    "pycharm": {
     "is_executing": true,
     "name": "#%%\n"
    }
   },
   "outputs": [],
   "source": [
    "y_train = train['label'].values\n",
    "y_test = test['label'].values\n",
    "\n",
    "y_train = to_categorical(y_train, num_classes=2)\n",
    "y_test = to_categorical(y_test, num_classes=2)"
   ]
  },
  {
   "cell_type": "code",
   "execution_count": 13,
   "metadata": {
    "pycharm": {
     "is_executing": true,
     "name": "#%%\n"
    }
   },
   "outputs": [
    {
     "data": {
      "text/plain": [
       "(8566, 300)"
      ]
     },
     "execution_count": 13,
     "metadata": {},
     "output_type": "execute_result"
    }
   ],
   "source": [
    "# create a weight matrix for words in training docs\n",
    "embedding_matrix_w2v = np.zeros((vocab_size, 300))\n",
    "for word, i in t.word_index.items():\n",
    "    try:\n",
    "        embedding_vector = w2v_model[word]\n",
    "    except:\n",
    "        embedding_vector = [0]*300\n",
    "\n",
    "    if embedding_vector is not None:\n",
    "        embedding_matrix_w2v[i] = embedding_vector\n",
    "\n",
    "embedding_matrix_w2v.shape"
   ]
  },
  {
   "cell_type": "code",
   "execution_count": 14,
   "metadata": {
    "pycharm": {
     "is_executing": true,
     "name": "#%%\n"
    }
   },
   "outputs": [],
   "source": [
    "reduce_lr = ReduceLROnPlateau(monitor='val_f1_m',\n",
    "                              mode = 'max',\n",
    "                              factor=0.5,\n",
    "                              patience=5,\n",
    "                              min_lr=0.0001,\n",
    "                              verbose=10)\n",
    "\n",
    "checkpoint = ModelCheckpoint(\"model_01.h5\",\n",
    "                               monitor=\"val_f1_m\",\n",
    "                               mode=\"max\",\n",
    "                               save_best_only = True,\n",
    "                               verbose=1)\n",
    "\n",
    "earlystop = EarlyStopping(monitor = 'val_f1_m',\n",
    "                            mode=\"max\",\n",
    "                            min_delta = 0,\n",
    "                            patience = 5,\n",
    "                            verbose=1)"
   ]
  },
  {
   "cell_type": "code",
   "execution_count": 15,
   "metadata": {
    "pycharm": {
     "is_executing": true
    }
   },
   "outputs": [],
   "source": [
    "def get_f1(y_true, y_pred): #taken from old keras source code\n",
    "    true_positives = K.sum(K.round(K.clip(y_true * y_pred, 0, 1)))\n",
    "    possible_positives = K.sum(K.round(K.clip(y_true, 0, 1)))\n",
    "    predicted_positives = K.sum(K.round(K.clip(y_pred, 0, 1)))\n",
    "    precision = true_positives / (predicted_positives + K.epsilon())\n",
    "    recall = true_positives / (possible_positives + K.epsilon())\n",
    "    f1_val = 2*(precision*recall)/(precision+recall+K.epsilon())\n",
    "    return f1_val"
   ]
  },
  {
   "cell_type": "markdown",
   "metadata": {},
   "source": [
    "## Model 1: Baseline CNN"
   ]
  },
  {
   "cell_type": "code",
   "execution_count": 16,
   "metadata": {
    "pycharm": {
     "is_executing": true,
     "name": "#%%\n"
    }
   },
   "outputs": [
    {
     "name": "stdout",
     "output_type": "stream",
     "text": [
      "Model: \"sequential\"\n",
      "_________________________________________________________________\n",
      " Layer (type)                Output Shape              Param #   \n",
      "=================================================================\n",
      " embedding (Embedding)       (None, 512, 300)          2569800   \n",
      "                                                                 \n",
      " dropout (Dropout)           (None, 512, 300)          0         \n",
      "                                                                 \n",
      " conv1d (Conv1D)             (None, 509, 50)           60050     \n",
      "                                                                 \n",
      " max_pooling1d (MaxPooling1D  (None, 254, 50)          0         \n",
      " )                                                               \n",
      "                                                                 \n",
      " conv1d_1 (Conv1D)           (None, 252, 100)          15100     \n",
      "                                                                 \n",
      " max_pooling1d_1 (MaxPooling  (None, 126, 100)         0         \n",
      " 1D)                                                             \n",
      "                                                                 \n",
      " flatten (Flatten)           (None, 12600)             0         \n",
      "                                                                 \n",
      " fully_connected (Dense)     (None, 100)               1260100   \n",
      "                                                                 \n",
      " dense (Dense)               (None, 2)                 202       \n",
      "                                                                 \n",
      "=================================================================\n",
      "Total params: 3,905,252\n",
      "Trainable params: 1,335,452\n",
      "Non-trainable params: 2,569,800\n",
      "_________________________________________________________________\n"
     ]
    }
   ],
   "source": [
    "model = Sequential()\n",
    "model.add(Input(shape=(512,), name='main_input'))\n",
    "model.add(Embedding(vocab_size, 300, weights=[embedding_matrix_w2v], trainable=False))\n",
    "model.add(Dropout(0.3))\n",
    "model.add(Conv1D(filters=50, kernel_size=4, activation='relu'))\n",
    "model.add(MaxPooling1D(pool_size=2))\n",
    "model.add(Conv1D(filters=100, kernel_size=3, activation='relu'))\n",
    "model.add(MaxPooling1D(pool_size=2))\n",
    "model.add(Flatten())\n",
    "model.add(Dense(100, activation='relu', name='fully_connected'))\n",
    "model.add(Dense(2, activation='softmax'))\n",
    "model.summary()\n",
    "\n",
    "model.compile(loss='categorical_crossentropy', optimizer=tf.keras.optimizers.Adam(lr=0.0001), metrics=[get_f1])"
   ]
  },
  {
   "cell_type": "code",
   "execution_count": 17,
   "metadata": {
    "pycharm": {
     "is_executing": true,
     "name": "#%%\n"
    }
   },
   "outputs": [
    {
     "name": "stdout",
     "output_type": "stream",
     "text": [
      "Epoch 1/50\n",
      "45/45 [==============================] - ETA: 0s - loss: 0.6834 - get_f1: 0.5561WARNING:tensorflow:Can save best model only with val_f1_m available, skipping.\n",
      "WARNING:tensorflow:Early stopping conditioned on metric `val_f1_m` which is not available. Available metrics are: loss,get_f1,val_loss,val_get_f1\n",
      "WARNING:tensorflow:Learning rate reduction is conditioned on metric `val_f1_m` which is not available. Available metrics are: loss,get_f1,val_loss,val_get_f1,lr\n",
      "45/45 [==============================] - 14s 300ms/step - loss: 0.6834 - get_f1: 0.5561 - val_loss: 0.6789 - val_get_f1: 0.5858 - lr: 1.0000e-04\n",
      "Epoch 2/50\n",
      "45/45 [==============================] - ETA: 0s - loss: 0.6552 - get_f1: 0.6269WARNING:tensorflow:Can save best model only with val_f1_m available, skipping.\n",
      "WARNING:tensorflow:Early stopping conditioned on metric `val_f1_m` which is not available. Available metrics are: loss,get_f1,val_loss,val_get_f1\n",
      "WARNING:tensorflow:Learning rate reduction is conditioned on metric `val_f1_m` which is not available. Available metrics are: loss,get_f1,val_loss,val_get_f1,lr\n",
      "45/45 [==============================] - 13s 281ms/step - loss: 0.6552 - get_f1: 0.6269 - val_loss: 0.6560 - val_get_f1: 0.5999 - lr: 1.0000e-04\n",
      "Epoch 3/50\n",
      "45/45 [==============================] - ETA: 0s - loss: 0.6057 - get_f1: 0.6863WARNING:tensorflow:Can save best model only with val_f1_m available, skipping.\n",
      "WARNING:tensorflow:Early stopping conditioned on metric `val_f1_m` which is not available. Available metrics are: loss,get_f1,val_loss,val_get_f1\n",
      "WARNING:tensorflow:Learning rate reduction is conditioned on metric `val_f1_m` which is not available. Available metrics are: loss,get_f1,val_loss,val_get_f1,lr\n",
      "45/45 [==============================] - 12s 275ms/step - loss: 0.6057 - get_f1: 0.6863 - val_loss: 0.6666 - val_get_f1: 0.6286 - lr: 1.0000e-04\n",
      "Epoch 4/50\n",
      "45/45 [==============================] - ETA: 0s - loss: 0.5581 - get_f1: 0.7141WARNING:tensorflow:Can save best model only with val_f1_m available, skipping.\n",
      "WARNING:tensorflow:Early stopping conditioned on metric `val_f1_m` which is not available. Available metrics are: loss,get_f1,val_loss,val_get_f1\n",
      "WARNING:tensorflow:Learning rate reduction is conditioned on metric `val_f1_m` which is not available. Available metrics are: loss,get_f1,val_loss,val_get_f1,lr\n",
      "45/45 [==============================] - 14s 316ms/step - loss: 0.5581 - get_f1: 0.7141 - val_loss: 0.5908 - val_get_f1: 0.6969 - lr: 1.0000e-04\n",
      "Epoch 5/50\n",
      "45/45 [==============================] - ETA: 0s - loss: 0.5317 - get_f1: 0.7318WARNING:tensorflow:Can save best model only with val_f1_m available, skipping.\n",
      "WARNING:tensorflow:Early stopping conditioned on metric `val_f1_m` which is not available. Available metrics are: loss,get_f1,val_loss,val_get_f1\n",
      "WARNING:tensorflow:Learning rate reduction is conditioned on metric `val_f1_m` which is not available. Available metrics are: loss,get_f1,val_loss,val_get_f1,lr\n",
      "45/45 [==============================] - 14s 301ms/step - loss: 0.5317 - get_f1: 0.7318 - val_loss: 0.5976 - val_get_f1: 0.6731 - lr: 1.0000e-04\n",
      "Epoch 6/50\n",
      "45/45 [==============================] - ETA: 0s - loss: 0.5101 - get_f1: 0.7512WARNING:tensorflow:Can save best model only with val_f1_m available, skipping.\n",
      "WARNING:tensorflow:Early stopping conditioned on metric `val_f1_m` which is not available. Available metrics are: loss,get_f1,val_loss,val_get_f1\n",
      "WARNING:tensorflow:Learning rate reduction is conditioned on metric `val_f1_m` which is not available. Available metrics are: loss,get_f1,val_loss,val_get_f1,lr\n",
      "45/45 [==============================] - 13s 284ms/step - loss: 0.5101 - get_f1: 0.7512 - val_loss: 0.5630 - val_get_f1: 0.7153 - lr: 1.0000e-04\n",
      "Epoch 7/50\n",
      "45/45 [==============================] - ETA: 0s - loss: 0.4839 - get_f1: 0.7603WARNING:tensorflow:Can save best model only with val_f1_m available, skipping.\n",
      "WARNING:tensorflow:Early stopping conditioned on metric `val_f1_m` which is not available. Available metrics are: loss,get_f1,val_loss,val_get_f1\n",
      "WARNING:tensorflow:Learning rate reduction is conditioned on metric `val_f1_m` which is not available. Available metrics are: loss,get_f1,val_loss,val_get_f1,lr\n",
      "45/45 [==============================] - 14s 309ms/step - loss: 0.4839 - get_f1: 0.7603 - val_loss: 0.6014 - val_get_f1: 0.6934 - lr: 1.0000e-04\n",
      "Epoch 8/50\n",
      "45/45 [==============================] - ETA: 0s - loss: 0.4947 - get_f1: 0.7581WARNING:tensorflow:Can save best model only with val_f1_m available, skipping.\n",
      "WARNING:tensorflow:Early stopping conditioned on metric `val_f1_m` which is not available. Available metrics are: loss,get_f1,val_loss,val_get_f1\n",
      "WARNING:tensorflow:Learning rate reduction is conditioned on metric `val_f1_m` which is not available. Available metrics are: loss,get_f1,val_loss,val_get_f1,lr\n",
      "45/45 [==============================] - 14s 303ms/step - loss: 0.4947 - get_f1: 0.7581 - val_loss: 0.5408 - val_get_f1: 0.7325 - lr: 1.0000e-04\n",
      "Epoch 9/50\n",
      "45/45 [==============================] - ETA: 0s - loss: 0.4561 - get_f1: 0.7883WARNING:tensorflow:Can save best model only with val_f1_m available, skipping.\n",
      "WARNING:tensorflow:Early stopping conditioned on metric `val_f1_m` which is not available. Available metrics are: loss,get_f1,val_loss,val_get_f1\n",
      "WARNING:tensorflow:Learning rate reduction is conditioned on metric `val_f1_m` which is not available. Available metrics are: loss,get_f1,val_loss,val_get_f1,lr\n",
      "45/45 [==============================] - 13s 297ms/step - loss: 0.4561 - get_f1: 0.7883 - val_loss: 0.5754 - val_get_f1: 0.7025 - lr: 1.0000e-04\n",
      "Epoch 10/50\n",
      "45/45 [==============================] - ETA: 0s - loss: 0.4494 - get_f1: 0.7904WARNING:tensorflow:Can save best model only with val_f1_m available, skipping.\n",
      "WARNING:tensorflow:Early stopping conditioned on metric `val_f1_m` which is not available. Available metrics are: loss,get_f1,val_loss,val_get_f1\n",
      "WARNING:tensorflow:Learning rate reduction is conditioned on metric `val_f1_m` which is not available. Available metrics are: loss,get_f1,val_loss,val_get_f1,lr\n",
      "45/45 [==============================] - 14s 307ms/step - loss: 0.4494 - get_f1: 0.7904 - val_loss: 0.5679 - val_get_f1: 0.7038 - lr: 1.0000e-04\n",
      "Epoch 11/50\n",
      "45/45 [==============================] - ETA: 0s - loss: 0.4269 - get_f1: 0.8074WARNING:tensorflow:Can save best model only with val_f1_m available, skipping.\n",
      "WARNING:tensorflow:Early stopping conditioned on metric `val_f1_m` which is not available. Available metrics are: loss,get_f1,val_loss,val_get_f1\n",
      "WARNING:tensorflow:Learning rate reduction is conditioned on metric `val_f1_m` which is not available. Available metrics are: loss,get_f1,val_loss,val_get_f1,lr\n",
      "45/45 [==============================] - 13s 297ms/step - loss: 0.4269 - get_f1: 0.8074 - val_loss: 0.5976 - val_get_f1: 0.6947 - lr: 1.0000e-04\n",
      "Epoch 12/50\n",
      "45/45 [==============================] - ETA: 0s - loss: 0.4271 - get_f1: 0.8054WARNING:tensorflow:Can save best model only with val_f1_m available, skipping.\n",
      "WARNING:tensorflow:Early stopping conditioned on metric `val_f1_m` which is not available. Available metrics are: loss,get_f1,val_loss,val_get_f1\n",
      "WARNING:tensorflow:Learning rate reduction is conditioned on metric `val_f1_m` which is not available. Available metrics are: loss,get_f1,val_loss,val_get_f1,lr\n",
      "45/45 [==============================] - 14s 314ms/step - loss: 0.4271 - get_f1: 0.8054 - val_loss: 0.5901 - val_get_f1: 0.6973 - lr: 1.0000e-04\n",
      "Epoch 13/50\n",
      "45/45 [==============================] - ETA: 0s - loss: 0.4130 - get_f1: 0.8092WARNING:tensorflow:Can save best model only with val_f1_m available, skipping.\n",
      "WARNING:tensorflow:Early stopping conditioned on metric `val_f1_m` which is not available. Available metrics are: loss,get_f1,val_loss,val_get_f1\n",
      "WARNING:tensorflow:Learning rate reduction is conditioned on metric `val_f1_m` which is not available. Available metrics are: loss,get_f1,val_loss,val_get_f1,lr\n",
      "45/45 [==============================] - 13s 294ms/step - loss: 0.4130 - get_f1: 0.8092 - val_loss: 0.5499 - val_get_f1: 0.7231 - lr: 1.0000e-04\n",
      "Epoch 14/50\n",
      "45/45 [==============================] - ETA: 0s - loss: 0.3929 - get_f1: 0.8203WARNING:tensorflow:Can save best model only with val_f1_m available, skipping.\n"
     ]
    },
    {
     "name": "stdout",
     "output_type": "stream",
     "text": [
      "WARNING:tensorflow:Early stopping conditioned on metric `val_f1_m` which is not available. Available metrics are: loss,get_f1,val_loss,val_get_f1\n",
      "WARNING:tensorflow:Learning rate reduction is conditioned on metric `val_f1_m` which is not available. Available metrics are: loss,get_f1,val_loss,val_get_f1,lr\n",
      "45/45 [==============================] - 13s 298ms/step - loss: 0.3929 - get_f1: 0.8203 - val_loss: 0.5961 - val_get_f1: 0.7038 - lr: 1.0000e-04\n",
      "Epoch 15/50\n",
      "45/45 [==============================] - ETA: 0s - loss: 0.3855 - get_f1: 0.8257WARNING:tensorflow:Can save best model only with val_f1_m available, skipping.\n",
      "WARNING:tensorflow:Early stopping conditioned on metric `val_f1_m` which is not available. Available metrics are: loss,get_f1,val_loss,val_get_f1\n",
      "WARNING:tensorflow:Learning rate reduction is conditioned on metric `val_f1_m` which is not available. Available metrics are: loss,get_f1,val_loss,val_get_f1,lr\n",
      "45/45 [==============================] - 14s 305ms/step - loss: 0.3855 - get_f1: 0.8257 - val_loss: 0.5663 - val_get_f1: 0.7218 - lr: 1.0000e-04\n",
      "Epoch 16/50\n",
      "45/45 [==============================] - ETA: 0s - loss: 0.3745 - get_f1: 0.8353WARNING:tensorflow:Can save best model only with val_f1_m available, skipping.\n",
      "WARNING:tensorflow:Early stopping conditioned on metric `val_f1_m` which is not available. Available metrics are: loss,get_f1,val_loss,val_get_f1\n",
      "WARNING:tensorflow:Learning rate reduction is conditioned on metric `val_f1_m` which is not available. Available metrics are: loss,get_f1,val_loss,val_get_f1,lr\n",
      "45/45 [==============================] - 13s 294ms/step - loss: 0.3745 - get_f1: 0.8353 - val_loss: 0.5993 - val_get_f1: 0.6999 - lr: 1.0000e-04\n",
      "Epoch 17/50\n",
      "45/45 [==============================] - ETA: 0s - loss: 0.3588 - get_f1: 0.8456WARNING:tensorflow:Can save best model only with val_f1_m available, skipping.\n",
      "WARNING:tensorflow:Early stopping conditioned on metric `val_f1_m` which is not available. Available metrics are: loss,get_f1,val_loss,val_get_f1\n",
      "WARNING:tensorflow:Learning rate reduction is conditioned on metric `val_f1_m` which is not available. Available metrics are: loss,get_f1,val_loss,val_get_f1,lr\n",
      "45/45 [==============================] - 13s 290ms/step - loss: 0.3588 - get_f1: 0.8456 - val_loss: 0.6537 - val_get_f1: 0.6843 - lr: 1.0000e-04\n",
      "Epoch 18/50\n",
      "45/45 [==============================] - ETA: 0s - loss: 0.3450 - get_f1: 0.8557WARNING:tensorflow:Can save best model only with val_f1_m available, skipping.\n",
      "WARNING:tensorflow:Early stopping conditioned on metric `val_f1_m` which is not available. Available metrics are: loss,get_f1,val_loss,val_get_f1\n",
      "WARNING:tensorflow:Learning rate reduction is conditioned on metric `val_f1_m` which is not available. Available metrics are: loss,get_f1,val_loss,val_get_f1,lr\n",
      "45/45 [==============================] - 14s 302ms/step - loss: 0.3450 - get_f1: 0.8557 - val_loss: 0.5490 - val_get_f1: 0.7502 - lr: 1.0000e-04\n",
      "Epoch 19/50\n",
      "45/45 [==============================] - ETA: 0s - loss: 0.3360 - get_f1: 0.8602WARNING:tensorflow:Can save best model only with val_f1_m available, skipping.\n",
      "WARNING:tensorflow:Early stopping conditioned on metric `val_f1_m` which is not available. Available metrics are: loss,get_f1,val_loss,val_get_f1\n",
      "WARNING:tensorflow:Learning rate reduction is conditioned on metric `val_f1_m` which is not available. Available metrics are: loss,get_f1,val_loss,val_get_f1,lr\n",
      "45/45 [==============================] - 13s 292ms/step - loss: 0.3360 - get_f1: 0.8602 - val_loss: 0.6447 - val_get_f1: 0.6960 - lr: 1.0000e-04\n",
      "Epoch 20/50\n",
      "45/45 [==============================] - ETA: 0s - loss: 0.3255 - get_f1: 0.8672WARNING:tensorflow:Can save best model only with val_f1_m available, skipping.\n",
      "WARNING:tensorflow:Early stopping conditioned on metric `val_f1_m` which is not available. Available metrics are: loss,get_f1,val_loss,val_get_f1\n",
      "WARNING:tensorflow:Learning rate reduction is conditioned on metric `val_f1_m` which is not available. Available metrics are: loss,get_f1,val_loss,val_get_f1,lr\n",
      "45/45 [==============================] - 13s 291ms/step - loss: 0.3255 - get_f1: 0.8672 - val_loss: 0.6036 - val_get_f1: 0.7064 - lr: 1.0000e-04\n",
      "Epoch 21/50\n",
      "45/45 [==============================] - ETA: 0s - loss: 0.3120 - get_f1: 0.8721WARNING:tensorflow:Can save best model only with val_f1_m available, skipping.\n",
      "WARNING:tensorflow:Early stopping conditioned on metric `val_f1_m` which is not available. Available metrics are: loss,get_f1,val_loss,val_get_f1\n",
      "WARNING:tensorflow:Learning rate reduction is conditioned on metric `val_f1_m` which is not available. Available metrics are: loss,get_f1,val_loss,val_get_f1,lr\n",
      "45/45 [==============================] - 14s 302ms/step - loss: 0.3120 - get_f1: 0.8721 - val_loss: 0.6287 - val_get_f1: 0.7012 - lr: 1.0000e-04\n",
      "Epoch 22/50\n",
      "45/45 [==============================] - ETA: 0s - loss: 0.3038 - get_f1: 0.8778WARNING:tensorflow:Can save best model only with val_f1_m available, skipping.\n",
      "WARNING:tensorflow:Early stopping conditioned on metric `val_f1_m` which is not available. Available metrics are: loss,get_f1,val_loss,val_get_f1\n",
      "WARNING:tensorflow:Learning rate reduction is conditioned on metric `val_f1_m` which is not available. Available metrics are: loss,get_f1,val_loss,val_get_f1,lr\n",
      "45/45 [==============================] - 13s 291ms/step - loss: 0.3038 - get_f1: 0.8778 - val_loss: 0.5987 - val_get_f1: 0.7153 - lr: 1.0000e-04\n",
      "Epoch 23/50\n",
      "45/45 [==============================] - ETA: 0s - loss: 0.2968 - get_f1: 0.8838WARNING:tensorflow:Can save best model only with val_f1_m available, skipping.\n",
      "WARNING:tensorflow:Early stopping conditioned on metric `val_f1_m` which is not available. Available metrics are: loss,get_f1,val_loss,val_get_f1\n",
      "WARNING:tensorflow:Learning rate reduction is conditioned on metric `val_f1_m` which is not available. Available metrics are: loss,get_f1,val_loss,val_get_f1,lr\n",
      "45/45 [==============================] - 13s 293ms/step - loss: 0.2968 - get_f1: 0.8838 - val_loss: 0.5684 - val_get_f1: 0.7427 - lr: 1.0000e-04\n",
      "Epoch 24/50\n",
      "45/45 [==============================] - ETA: 0s - loss: 0.2864 - get_f1: 0.8838WARNING:tensorflow:Can save best model only with val_f1_m available, skipping.\n",
      "WARNING:tensorflow:Early stopping conditioned on metric `val_f1_m` which is not available. Available metrics are: loss,get_f1,val_loss,val_get_f1\n",
      "WARNING:tensorflow:Learning rate reduction is conditioned on metric `val_f1_m` which is not available. Available metrics are: loss,get_f1,val_loss,val_get_f1,lr\n",
      "45/45 [==============================] - 14s 303ms/step - loss: 0.2864 - get_f1: 0.8838 - val_loss: 0.5989 - val_get_f1: 0.7129 - lr: 1.0000e-04\n",
      "Epoch 25/50\n",
      "45/45 [==============================] - ETA: 0s - loss: 0.2717 - get_f1: 0.8976WARNING:tensorflow:Can save best model only with val_f1_m available, skipping.\n",
      "WARNING:tensorflow:Early stopping conditioned on metric `val_f1_m` which is not available. Available metrics are: loss,get_f1,val_loss,val_get_f1\n",
      "WARNING:tensorflow:Learning rate reduction is conditioned on metric `val_f1_m` which is not available. Available metrics are: loss,get_f1,val_loss,val_get_f1,lr\n",
      "45/45 [==============================] - 13s 292ms/step - loss: 0.2717 - get_f1: 0.8976 - val_loss: 0.5887 - val_get_f1: 0.7388 - lr: 1.0000e-04\n",
      "Epoch 26/50\n",
      "45/45 [==============================] - ETA: 0s - loss: 0.2611 - get_f1: 0.8969WARNING:tensorflow:Can save best model only with val_f1_m available, skipping.\n",
      "WARNING:tensorflow:Early stopping conditioned on metric `val_f1_m` which is not available. Available metrics are: loss,get_f1,val_loss,val_get_f1\n",
      "WARNING:tensorflow:Learning rate reduction is conditioned on metric `val_f1_m` which is not available. Available metrics are: loss,get_f1,val_loss,val_get_f1,lr\n",
      "45/45 [==============================] - 13s 293ms/step - loss: 0.2611 - get_f1: 0.8969 - val_loss: 0.6788 - val_get_f1: 0.6999 - lr: 1.0000e-04\n",
      "Epoch 27/50\n",
      "45/45 [==============================] - ETA: 0s - loss: 0.2483 - get_f1: 0.8977WARNING:tensorflow:Can save best model only with val_f1_m available, skipping.\n",
      "WARNING:tensorflow:Early stopping conditioned on metric `val_f1_m` which is not available. Available metrics are: loss,get_f1,val_loss,val_get_f1\n"
     ]
    },
    {
     "name": "stdout",
     "output_type": "stream",
     "text": [
      "WARNING:tensorflow:Learning rate reduction is conditioned on metric `val_f1_m` which is not available. Available metrics are: loss,get_f1,val_loss,val_get_f1,lr\n",
      "45/45 [==============================] - 14s 306ms/step - loss: 0.2483 - get_f1: 0.8977 - val_loss: 0.6316 - val_get_f1: 0.7179 - lr: 1.0000e-04\n",
      "Epoch 28/50\n",
      "45/45 [==============================] - ETA: 0s - loss: 0.2394 - get_f1: 0.9174WARNING:tensorflow:Can save best model only with val_f1_m available, skipping.\n",
      "WARNING:tensorflow:Early stopping conditioned on metric `val_f1_m` which is not available. Available metrics are: loss,get_f1,val_loss,val_get_f1\n",
      "WARNING:tensorflow:Learning rate reduction is conditioned on metric `val_f1_m` which is not available. Available metrics are: loss,get_f1,val_loss,val_get_f1,lr\n",
      "45/45 [==============================] - 13s 288ms/step - loss: 0.2394 - get_f1: 0.9174 - val_loss: 0.6236 - val_get_f1: 0.7335 - lr: 1.0000e-04\n",
      "Epoch 29/50\n",
      "45/45 [==============================] - ETA: 0s - loss: 0.2359 - get_f1: 0.9115WARNING:tensorflow:Can save best model only with val_f1_m available, skipping.\n",
      "WARNING:tensorflow:Early stopping conditioned on metric `val_f1_m` which is not available. Available metrics are: loss,get_f1,val_loss,val_get_f1\n",
      "WARNING:tensorflow:Learning rate reduction is conditioned on metric `val_f1_m` which is not available. Available metrics are: loss,get_f1,val_loss,val_get_f1,lr\n",
      "45/45 [==============================] - 13s 299ms/step - loss: 0.2359 - get_f1: 0.9115 - val_loss: 0.6358 - val_get_f1: 0.7231 - lr: 1.0000e-04\n",
      "Epoch 30/50\n",
      "45/45 [==============================] - ETA: 0s - loss: 0.2157 - get_f1: 0.9223WARNING:tensorflow:Can save best model only with val_f1_m available, skipping.\n",
      "WARNING:tensorflow:Early stopping conditioned on metric `val_f1_m` which is not available. Available metrics are: loss,get_f1,val_loss,val_get_f1\n",
      "WARNING:tensorflow:Learning rate reduction is conditioned on metric `val_f1_m` which is not available. Available metrics are: loss,get_f1,val_loss,val_get_f1,lr\n",
      "45/45 [==============================] - 13s 299ms/step - loss: 0.2157 - get_f1: 0.9223 - val_loss: 0.6700 - val_get_f1: 0.7153 - lr: 1.0000e-04\n",
      "Epoch 31/50\n",
      "45/45 [==============================] - ETA: 0s - loss: 0.2197 - get_f1: 0.9251WARNING:tensorflow:Can save best model only with val_f1_m available, skipping.\n",
      "WARNING:tensorflow:Early stopping conditioned on metric `val_f1_m` which is not available. Available metrics are: loss,get_f1,val_loss,val_get_f1\n",
      "WARNING:tensorflow:Learning rate reduction is conditioned on metric `val_f1_m` which is not available. Available metrics are: loss,get_f1,val_loss,val_get_f1,lr\n",
      "45/45 [==============================] - 13s 289ms/step - loss: 0.2197 - get_f1: 0.9251 - val_loss: 0.6322 - val_get_f1: 0.7335 - lr: 1.0000e-04\n",
      "Epoch 32/50\n",
      "45/45 [==============================] - ETA: 0s - loss: 0.2036 - get_f1: 0.9278WARNING:tensorflow:Can save best model only with val_f1_m available, skipping.\n",
      "WARNING:tensorflow:Early stopping conditioned on metric `val_f1_m` which is not available. Available metrics are: loss,get_f1,val_loss,val_get_f1\n",
      "WARNING:tensorflow:Learning rate reduction is conditioned on metric `val_f1_m` which is not available. Available metrics are: loss,get_f1,val_loss,val_get_f1,lr\n",
      "45/45 [==============================] - 14s 304ms/step - loss: 0.2036 - get_f1: 0.9278 - val_loss: 0.6543 - val_get_f1: 0.7270 - lr: 1.0000e-04\n",
      "Epoch 33/50\n",
      "45/45 [==============================] - ETA: 0s - loss: 0.1880 - get_f1: 0.9421WARNING:tensorflow:Can save best model only with val_f1_m available, skipping.\n",
      "WARNING:tensorflow:Early stopping conditioned on metric `val_f1_m` which is not available. Available metrics are: loss,get_f1,val_loss,val_get_f1\n",
      "WARNING:tensorflow:Learning rate reduction is conditioned on metric `val_f1_m` which is not available. Available metrics are: loss,get_f1,val_loss,val_get_f1,lr\n",
      "45/45 [==============================] - 13s 294ms/step - loss: 0.1880 - get_f1: 0.9421 - val_loss: 0.6388 - val_get_f1: 0.7244 - lr: 1.0000e-04\n",
      "Epoch 34/50\n",
      "45/45 [==============================] - ETA: 0s - loss: 0.1967 - get_f1: 0.9296WARNING:tensorflow:Can save best model only with val_f1_m available, skipping.\n",
      "WARNING:tensorflow:Early stopping conditioned on metric `val_f1_m` which is not available. Available metrics are: loss,get_f1,val_loss,val_get_f1\n",
      "WARNING:tensorflow:Learning rate reduction is conditioned on metric `val_f1_m` which is not available. Available metrics are: loss,get_f1,val_loss,val_get_f1,lr\n",
      "45/45 [==============================] - 13s 292ms/step - loss: 0.1967 - get_f1: 0.9296 - val_loss: 0.7090 - val_get_f1: 0.7114 - lr: 1.0000e-04\n",
      "Epoch 35/50\n",
      "45/45 [==============================] - ETA: 0s - loss: 0.1788 - get_f1: 0.9368WARNING:tensorflow:Can save best model only with val_f1_m available, skipping.\n",
      "WARNING:tensorflow:Early stopping conditioned on metric `val_f1_m` which is not available. Available metrics are: loss,get_f1,val_loss,val_get_f1\n",
      "WARNING:tensorflow:Learning rate reduction is conditioned on metric `val_f1_m` which is not available. Available metrics are: loss,get_f1,val_loss,val_get_f1,lr\n",
      "45/45 [==============================] - 14s 306ms/step - loss: 0.1788 - get_f1: 0.9368 - val_loss: 0.7398 - val_get_f1: 0.7012 - lr: 1.0000e-04\n",
      "Epoch 36/50\n",
      "45/45 [==============================] - ETA: 0s - loss: 0.1682 - get_f1: 0.9473WARNING:tensorflow:Can save best model only with val_f1_m available, skipping.\n",
      "WARNING:tensorflow:Early stopping conditioned on metric `val_f1_m` which is not available. Available metrics are: loss,get_f1,val_loss,val_get_f1\n",
      "WARNING:tensorflow:Learning rate reduction is conditioned on metric `val_f1_m` which is not available. Available metrics are: loss,get_f1,val_loss,val_get_f1,lr\n",
      "45/45 [==============================] - 13s 293ms/step - loss: 0.1682 - get_f1: 0.9473 - val_loss: 0.7226 - val_get_f1: 0.7153 - lr: 1.0000e-04\n",
      "Epoch 37/50\n",
      "45/45 [==============================] - ETA: 0s - loss: 0.1741 - get_f1: 0.9403WARNING:tensorflow:Can save best model only with val_f1_m available, skipping.\n",
      "WARNING:tensorflow:Early stopping conditioned on metric `val_f1_m` which is not available. Available metrics are: loss,get_f1,val_loss,val_get_f1\n",
      "WARNING:tensorflow:Learning rate reduction is conditioned on metric `val_f1_m` which is not available. Available metrics are: loss,get_f1,val_loss,val_get_f1,lr\n",
      "45/45 [==============================] - 13s 290ms/step - loss: 0.1741 - get_f1: 0.9403 - val_loss: 0.6725 - val_get_f1: 0.7192 - lr: 1.0000e-04\n",
      "Epoch 38/50\n",
      "45/45 [==============================] - ETA: 0s - loss: 0.1613 - get_f1: 0.9507WARNING:tensorflow:Can save best model only with val_f1_m available, skipping.\n",
      "WARNING:tensorflow:Early stopping conditioned on metric `val_f1_m` which is not available. Available metrics are: loss,get_f1,val_loss,val_get_f1\n",
      "WARNING:tensorflow:Learning rate reduction is conditioned on metric `val_f1_m` which is not available. Available metrics are: loss,get_f1,val_loss,val_get_f1,lr\n",
      "45/45 [==============================] - 14s 313ms/step - loss: 0.1613 - get_f1: 0.9507 - val_loss: 0.6869 - val_get_f1: 0.7270 - lr: 1.0000e-04\n",
      "Epoch 39/50\n",
      "45/45 [==============================] - ETA: 0s - loss: 0.1575 - get_f1: 0.9476WARNING:tensorflow:Can save best model only with val_f1_m available, skipping.\n",
      "WARNING:tensorflow:Early stopping conditioned on metric `val_f1_m` which is not available. Available metrics are: loss,get_f1,val_loss,val_get_f1\n",
      "WARNING:tensorflow:Learning rate reduction is conditioned on metric `val_f1_m` which is not available. Available metrics are: loss,get_f1,val_loss,val_get_f1,lr\n",
      "45/45 [==============================] - 12s 272ms/step - loss: 0.1575 - get_f1: 0.9476 - val_loss: 0.7075 - val_get_f1: 0.7244 - lr: 1.0000e-04\n",
      "Epoch 40/50\n",
      "45/45 [==============================] - ETA: 0s - loss: 0.1473 - get_f1: 0.9535WARNING:tensorflow:Can save best model only with val_f1_m available, skipping.\n",
      "WARNING:tensorflow:Early stopping conditioned on metric `val_f1_m` which is not available. Available metrics are: loss,get_f1,val_loss,val_get_f1\n",
      "WARNING:tensorflow:Learning rate reduction is conditioned on metric `val_f1_m` which is not available. Available metrics are: loss,get_f1,val_loss,val_get_f1,lr\n"
     ]
    },
    {
     "name": "stdout",
     "output_type": "stream",
     "text": [
      "45/45 [==============================] - 12s 266ms/step - loss: 0.1473 - get_f1: 0.9535 - val_loss: 0.7355 - val_get_f1: 0.7090 - lr: 1.0000e-04\n",
      "Epoch 41/50\n",
      "45/45 [==============================] - ETA: 0s - loss: 0.1382 - get_f1: 0.9577WARNING:tensorflow:Can save best model only with val_f1_m available, skipping.\n",
      "WARNING:tensorflow:Early stopping conditioned on metric `val_f1_m` which is not available. Available metrics are: loss,get_f1,val_loss,val_get_f1\n",
      "WARNING:tensorflow:Learning rate reduction is conditioned on metric `val_f1_m` which is not available. Available metrics are: loss,get_f1,val_loss,val_get_f1,lr\n",
      "45/45 [==============================] - 13s 283ms/step - loss: 0.1382 - get_f1: 0.9577 - val_loss: 0.7324 - val_get_f1: 0.7179 - lr: 1.0000e-04\n",
      "Epoch 42/50\n",
      "45/45 [==============================] - ETA: 0s - loss: 0.1340 - get_f1: 0.9594WARNING:tensorflow:Can save best model only with val_f1_m available, skipping.\n",
      "WARNING:tensorflow:Early stopping conditioned on metric `val_f1_m` which is not available. Available metrics are: loss,get_f1,val_loss,val_get_f1\n",
      "WARNING:tensorflow:Learning rate reduction is conditioned on metric `val_f1_m` which is not available. Available metrics are: loss,get_f1,val_loss,val_get_f1,lr\n",
      "45/45 [==============================] - 12s 266ms/step - loss: 0.1340 - get_f1: 0.9594 - val_loss: 0.7760 - val_get_f1: 0.7051 - lr: 1.0000e-04\n",
      "Epoch 43/50\n",
      "45/45 [==============================] - ETA: 0s - loss: 0.1260 - get_f1: 0.9615WARNING:tensorflow:Can save best model only with val_f1_m available, skipping.\n",
      "WARNING:tensorflow:Early stopping conditioned on metric `val_f1_m` which is not available. Available metrics are: loss,get_f1,val_loss,val_get_f1\n",
      "WARNING:tensorflow:Learning rate reduction is conditioned on metric `val_f1_m` which is not available. Available metrics are: loss,get_f1,val_loss,val_get_f1,lr\n",
      "45/45 [==============================] - 12s 272ms/step - loss: 0.1260 - get_f1: 0.9615 - val_loss: 0.7396 - val_get_f1: 0.7153 - lr: 1.0000e-04\n",
      "Epoch 44/50\n",
      "45/45 [==============================] - ETA: 0s - loss: 0.1231 - get_f1: 0.9615WARNING:tensorflow:Can save best model only with val_f1_m available, skipping.\n",
      "WARNING:tensorflow:Early stopping conditioned on metric `val_f1_m` which is not available. Available metrics are: loss,get_f1,val_loss,val_get_f1\n",
      "WARNING:tensorflow:Learning rate reduction is conditioned on metric `val_f1_m` which is not available. Available metrics are: loss,get_f1,val_loss,val_get_f1,lr\n",
      "45/45 [==============================] - 13s 297ms/step - loss: 0.1231 - get_f1: 0.9615 - val_loss: 0.7429 - val_get_f1: 0.7140 - lr: 1.0000e-04\n",
      "Epoch 45/50\n",
      "45/45 [==============================] - ETA: 0s - loss: 0.1092 - get_f1: 0.9716WARNING:tensorflow:Can save best model only with val_f1_m available, skipping.\n",
      "WARNING:tensorflow:Early stopping conditioned on metric `val_f1_m` which is not available. Available metrics are: loss,get_f1,val_loss,val_get_f1\n",
      "WARNING:tensorflow:Learning rate reduction is conditioned on metric `val_f1_m` which is not available. Available metrics are: loss,get_f1,val_loss,val_get_f1,lr\n",
      "45/45 [==============================] - 12s 265ms/step - loss: 0.1092 - get_f1: 0.9716 - val_loss: 0.8321 - val_get_f1: 0.7025 - lr: 1.0000e-04\n",
      "Epoch 46/50\n",
      "45/45 [==============================] - ETA: 0s - loss: 0.1170 - get_f1: 0.9646WARNING:tensorflow:Can save best model only with val_f1_m available, skipping.\n",
      "WARNING:tensorflow:Early stopping conditioned on metric `val_f1_m` which is not available. Available metrics are: loss,get_f1,val_loss,val_get_f1\n",
      "WARNING:tensorflow:Learning rate reduction is conditioned on metric `val_f1_m` which is not available. Available metrics are: loss,get_f1,val_loss,val_get_f1,lr\n",
      "45/45 [==============================] - 12s 275ms/step - loss: 0.1170 - get_f1: 0.9646 - val_loss: 0.7996 - val_get_f1: 0.6973 - lr: 1.0000e-04\n",
      "Epoch 47/50\n",
      "45/45 [==============================] - ETA: 0s - loss: 0.1120 - get_f1: 0.9643WARNING:tensorflow:Can save best model only with val_f1_m available, skipping.\n",
      "WARNING:tensorflow:Early stopping conditioned on metric `val_f1_m` which is not available. Available metrics are: loss,get_f1,val_loss,val_get_f1\n",
      "WARNING:tensorflow:Learning rate reduction is conditioned on metric `val_f1_m` which is not available. Available metrics are: loss,get_f1,val_loss,val_get_f1,lr\n",
      "45/45 [==============================] - 12s 275ms/step - loss: 0.1120 - get_f1: 0.9643 - val_loss: 0.9510 - val_get_f1: 0.6856 - lr: 1.0000e-04\n",
      "Epoch 48/50\n",
      "45/45 [==============================] - ETA: 0s - loss: 0.1064 - get_f1: 0.9691WARNING:tensorflow:Can save best model only with val_f1_m available, skipping.\n",
      "WARNING:tensorflow:Early stopping conditioned on metric `val_f1_m` which is not available. Available metrics are: loss,get_f1,val_loss,val_get_f1\n",
      "WARNING:tensorflow:Learning rate reduction is conditioned on metric `val_f1_m` which is not available. Available metrics are: loss,get_f1,val_loss,val_get_f1,lr\n",
      "45/45 [==============================] - 12s 259ms/step - loss: 0.1064 - get_f1: 0.9691 - val_loss: 0.8965 - val_get_f1: 0.6882 - lr: 1.0000e-04\n",
      "Epoch 49/50\n",
      "45/45 [==============================] - ETA: 0s - loss: 0.0991 - get_f1: 0.9726WARNING:tensorflow:Can save best model only with val_f1_m available, skipping.\n",
      "WARNING:tensorflow:Early stopping conditioned on metric `val_f1_m` which is not available. Available metrics are: loss,get_f1,val_loss,val_get_f1\n",
      "WARNING:tensorflow:Learning rate reduction is conditioned on metric `val_f1_m` which is not available. Available metrics are: loss,get_f1,val_loss,val_get_f1,lr\n",
      "45/45 [==============================] - 12s 270ms/step - loss: 0.0991 - get_f1: 0.9726 - val_loss: 0.8314 - val_get_f1: 0.6960 - lr: 1.0000e-04\n",
      "Epoch 50/50\n",
      "45/45 [==============================] - ETA: 0s - loss: 0.1008 - get_f1: 0.9688WARNING:tensorflow:Can save best model only with val_f1_m available, skipping.\n",
      "WARNING:tensorflow:Early stopping conditioned on metric `val_f1_m` which is not available. Available metrics are: loss,get_f1,val_loss,val_get_f1\n",
      "WARNING:tensorflow:Learning rate reduction is conditioned on metric `val_f1_m` which is not available. Available metrics are: loss,get_f1,val_loss,val_get_f1,lr\n",
      "45/45 [==============================] - 12s 269ms/step - loss: 0.1008 - get_f1: 0.9688 - val_loss: 0.8892 - val_get_f1: 0.6973 - lr: 1.0000e-04\n"
     ]
    }
   ],
   "source": [
    "h1 = model.fit(padded_comments_train, y_train,\n",
    "               batch_size=64,\n",
    "               epochs=50,\n",
    "               verbose=1, callbacks=[ checkpoint, earlystop, reduce_lr],  #tensorboard\n",
    "               validation_data=(padded_comments_test, y_test))"
   ]
  },
  {
   "cell_type": "code",
   "execution_count": 18,
   "metadata": {
    "pycharm": {
     "is_executing": true,
     "name": "#%%\n"
    }
   },
   "outputs": [
    {
     "name": "stdout",
     "output_type": "stream",
     "text": [
      "23/23 [==============================] - 1s 28ms/step - loss: 0.8892 - get_f1: 0.6960\n",
      "[0.8892291188240051, 0.6960226893424988]\n"
     ]
    }
   ],
   "source": [
    "score_1 = model.evaluate(padded_comments_test, y_test)\n",
    "print(score_1)"
   ]
  },
  {
   "cell_type": "code",
   "execution_count": 19,
   "metadata": {
    "pycharm": {
     "is_executing": true,
     "name": "#%%\n"
    }
   },
   "outputs": [
    {
     "name": "stdout",
     "output_type": "stream",
     "text": [
      "[[184 162]\n",
      " [ 56 313]]\n"
     ]
    },
    {
     "data": {
      "text/plain": [
       "<AxesSubplot:>"
      ]
     },
     "execution_count": 19,
     "metadata": {},
     "output_type": "execute_result"
    },
    {
     "data": {
      "image/png": "[encoded data removed]",
      "text/plain": [
       "<Figure size 432x288 with 2 Axes>"
      ]
     },
     "metadata": {
      "needs_background": "light"
     },
     "output_type": "display_data"
    }
   ],
   "source": [
    "cnf_mat = confusion_matrix(np.argmax(y_test, axis=1), np.argmax(model.predict(padded_comments_test), axis=1))\n",
    "\n",
    "print(cnf_mat)\n",
    "sns.heatmap(cnf_mat, annot=True, fmt='g', linewidths=.5, xticklabels=['Predicted 0', 'Predicted 1'],\n",
    "            yticklabels=['Actual 0', 'Actual 1'])"
   ]
  },
  {
   "cell_type": "code",
   "execution_count": 20,
   "metadata": {
    "pycharm": {
     "is_executing": true,
     "name": "#%%\n"
    }
   },
   "outputs": [
    {
     "data": {
      "image/png": "[encoded data removed]",
      "text/plain": [
       "<Figure size 432x288 with 1 Axes>"
      ]
     },
     "metadata": {
      "needs_background": "light"
     },
     "output_type": "display_data"
    }
   ],
   "source": [
    "plt.plot(h1.history['loss'][1:])\n",
    "plt.plot(h1.history['val_loss'][1:])\n",
    "plt.title('Model metric')\n",
    "plt.ylabel('F1 metric')\n",
    "plt.xlabel('epoch')\n",
    "plt.legend(['train','Validation'], loc='upper left')\n",
    "plt.savefig('CNN1_f1.png')\n",
    "plt.show()"
   ]
  },
  {
   "cell_type": "markdown",
   "metadata": {
    "pycharm": {
     "name": "#%% md\n"
    }
   },
   "source": [
    "## Model 2: CNN + features"
   ]
  },
  {
   "cell_type": "code",
   "execution_count": 21,
   "metadata": {
    "pycharm": {
     "is_executing": true
    }
   },
   "outputs": [],
   "source": [
    "def df_to_dataset(dataframe, batch_size=32):\n",
    "    ds = tf.data.Dataset.from_tensor_slices(dataframe)\n",
    "    ds = ds.batch(batch_size)\n",
    "    return ds"
   ]
  },
  {
   "cell_type": "code",
   "execution_count": 22,
   "metadata": {
    "pycharm": {
     "is_executing": true
    }
   },
   "outputs": [],
   "source": [
    "# batch_size = 64 #\n",
    "# f_train = df_to_dataset(dict(features_train.copy()), batch_size=batch_size)\n",
    "# f_test = df_to_dataset(dict(features_test.copy()), batch_size=batch_size)\n",
    "# y_train = df_to_dataset(train[\"label\"], batch_size=batch_size)\n",
    "# y_test = df_to_dataset(test[\"label\"], batch_size=batch_size)"
   ]
  },
  {
   "cell_type": "code",
   "execution_count": 23,
   "metadata": {
    "pycharm": {
     "is_executing": true,
     "name": "#%%\n"
    }
   },
   "outputs": [],
   "source": [
    "# Defining the embedding layer\n",
    "\n",
    "# model.add(Conv1D(filters=50, kernel_size=4, activation='relu'))\n",
    "# model.add(MaxPooling1D(pool_size=2))\n",
    "# model.add(Conv1D(filters=100, kernel_size=3, activation='relu'))\n",
    "# model.add(MaxPooling1D(pool_size=2))\n",
    "# model.add(Dense(2, activation='softmax'))\n",
    "\n",
    "embedding_dim = 300\n",
    "input1=Input(shape=(512,),name=\"main_input\")\n",
    "\n",
    "embedding_layer = Embedding(vocab_size, embedding_dim, weights=[embedding_matrix_w2v], trainable=False)(input1)\n",
    "conv1 = Conv1D(filters=50, kernel_size=4, activation='relu')(embedding_layer)\n",
    "maxpool1 = MaxPooling1D(pool_size=2)(conv1)\n",
    "conv2 = Conv1D(filters=100, kernel_size=3, activation='relu')(maxpool1)\n",
    "maxpool2 = MaxPooling1D(pool_size=2)(conv2)\n",
    "flatten = Flatten()(maxpool2)\n",
    "\n",
    "cnn_output =  Model(inputs = input1,outputs = flatten)\n",
    "\n",
    "input2=Input(shape=(features_len,))\n",
    "\n",
    "merge = concatenate([cnn_output.output,input2])\n",
    "\n",
    "reg_dense1 = Dense(64, activation='relu')(merge)\n",
    "reg_dense2 = Dense(16, activation='relu')(reg_dense1)\n",
    "output1 = Dense(2, activation='softmax')(reg_dense2)\n",
    "\n",
    "clf_dense1 = Dense(64, activation='relu')(merge)\n",
    "clf_dense2 = Dense(16, activation='relu')(clf_dense1)\n",
    "\n",
    "output2 = Dense(2, activation='softmax')(clf_dense2)\n",
    "\n",
    "model = Model(inputs=[input1,input2], outputs=[output1,output2])\n"
   ]
  },
  {
   "cell_type": "code",
   "execution_count": 24,
   "metadata": {
    "pycharm": {
     "is_executing": true
    }
   },
   "outputs": [
    {
     "name": "stdout",
     "output_type": "stream",
     "text": [
      "Model: \"model_1\"\n",
      "__________________________________________________________________________________________________\n",
      " Layer (type)                   Output Shape         Param #     Connected to                     \n",
      "==================================================================================================\n",
      " main_input (InputLayer)        [(None, 512)]        0           []                               \n",
      "                                                                                                  \n",
      " embedding_1 (Embedding)        (None, 512, 300)     2569800     ['main_input[0][0]']             \n",
      "                                                                                                  \n",
      " conv1d_2 (Conv1D)              (None, 509, 50)      60050       ['embedding_1[0][0]']            \n",
      "                                                                                                  \n",
      " max_pooling1d_2 (MaxPooling1D)  (None, 254, 50)     0           ['conv1d_2[0][0]']               \n",
      "                                                                                                  \n",
      " conv1d_3 (Conv1D)              (None, 252, 100)     15100       ['max_pooling1d_2[0][0]']        \n",
      "                                                                                                  \n",
      " max_pooling1d_3 (MaxPooling1D)  (None, 126, 100)    0           ['conv1d_3[0][0]']               \n",
      "                                                                                                  \n",
      " flatten_1 (Flatten)            (None, 12600)        0           ['max_pooling1d_3[0][0]']        \n",
      "                                                                                                  \n",
      " input_1 (InputLayer)           [(None, 107)]        0           []                               \n",
      "                                                                                                  \n",
      " concatenate (Concatenate)      (None, 12707)        0           ['flatten_1[0][0]',              \n",
      "                                                                  'input_1[0][0]']                \n",
      "                                                                                                  \n",
      " dense_1 (Dense)                (None, 64)           813312      ['concatenate[0][0]']            \n",
      "                                                                                                  \n",
      " dense_4 (Dense)                (None, 64)           813312      ['concatenate[0][0]']            \n",
      "                                                                                                  \n",
      " dense_2 (Dense)                (None, 16)           1040        ['dense_1[0][0]']                \n",
      "                                                                                                  \n",
      " dense_5 (Dense)                (None, 16)           1040        ['dense_4[0][0]']                \n",
      "                                                                                                  \n",
      " dense_3 (Dense)                (None, 2)            34          ['dense_2[0][0]']                \n",
      "                                                                                                  \n",
      " dense_6 (Dense)                (None, 2)            34          ['dense_5[0][0]']                \n",
      "                                                                                                  \n",
      "==================================================================================================\n",
      "Total params: 4,273,722\n",
      "Trainable params: 1,703,922\n",
      "Non-trainable params: 2,569,800\n",
      "__________________________________________________________________________________________________\n"
     ]
    }
   ],
   "source": [
    "model.compile(loss='categorical_crossentropy', optimizer=tf.keras.optimizers.Adam(lr=0.0001), metrics=[get_f1])\n",
    "model.summary()"
   ]
  },
  {
   "cell_type": "code",
   "execution_count": 25,
   "metadata": {
    "pycharm": {
     "is_executing": true,
     "name": "#%%\n"
    }
   },
   "outputs": [
    {
     "name": "stdout",
     "output_type": "stream",
     "text": [
      "(715, 2)\n",
      "(2838, 2)\n"
     ]
    }
   ],
   "source": [
    "print(y_test.shape)\n",
    "print(y_train.shape)"
   ]
  },
  {
   "cell_type": "code",
   "execution_count": 26,
   "metadata": {
    "pycharm": {
     "is_executing": true,
     "name": "#%%\n"
    },
    "scrolled": true
   },
   "outputs": [
    {
     "name": "stdout",
     "output_type": "stream",
     "text": [
      "Epoch 1/50\n",
      "45/45 [==============================] - ETA: 0s - loss: 4.5766 - dense_3_loss: 0.7448 - dense_6_loss: 3.8318 - dense_3_get_f1: 0.6100 - dense_6_get_f1: 0.5368WARNING:tensorflow:Can save best model only with val_f1_m available, skipping.\n",
      "WARNING:tensorflow:Early stopping conditioned on metric `val_f1_m` which is not available. Available metrics are: loss,dense_3_loss,dense_6_loss,dense_3_get_f1,dense_6_get_f1,val_loss,val_dense_3_loss,val_dense_6_loss,val_dense_3_get_f1,val_dense_6_get_f1\n",
      "WARNING:tensorflow:Learning rate reduction is conditioned on metric `val_f1_m` which is not available. Available metrics are: loss,dense_3_loss,dense_6_loss,dense_3_get_f1,dense_6_get_f1,val_loss,val_dense_3_loss,val_dense_6_loss,val_dense_3_get_f1,val_dense_6_get_f1,lr\n",
      "45/45 [==============================] - 9s 183ms/step - loss: 4.5766 - dense_3_loss: 0.7448 - dense_6_loss: 3.8318 - dense_3_get_f1: 0.6100 - dense_6_get_f1: 0.5368 - val_loss: 1.3390 - val_dense_3_loss: 0.5828 - val_dense_6_loss: 0.7562 - val_dense_3_get_f1: 0.6605 - val_dense_6_get_f1: 0.6004 - lr: 1.0000e-04\n",
      "Epoch 2/50\n",
      "45/45 [==============================] - ETA: 0s - loss: 1.2424 - dense_3_loss: 0.5595 - dense_6_loss: 0.6829 - dense_3_get_f1: 0.7147 - dense_6_get_f1: 0.6370WARNING:tensorflow:Can save best model only with val_f1_m available, skipping.\n",
      "WARNING:tensorflow:Early stopping conditioned on metric `val_f1_m` which is not available. Available metrics are: loss,dense_3_loss,dense_6_loss,dense_3_get_f1,dense_6_get_f1,val_loss,val_dense_3_loss,val_dense_6_loss,val_dense_3_get_f1,val_dense_6_get_f1\n",
      "WARNING:tensorflow:Learning rate reduction is conditioned on metric `val_f1_m` which is not available. Available metrics are: loss,dense_3_loss,dense_6_loss,dense_3_get_f1,dense_6_get_f1,val_loss,val_dense_3_loss,val_dense_6_loss,val_dense_3_get_f1,val_dense_6_get_f1,lr\n",
      "45/45 [==============================] - 8s 185ms/step - loss: 1.2424 - dense_3_loss: 0.5595 - dense_6_loss: 0.6829 - dense_3_get_f1: 0.7147 - dense_6_get_f1: 0.6370 - val_loss: 1.1165 - val_dense_3_loss: 0.5496 - val_dense_6_loss: 0.5669 - val_dense_3_get_f1: 0.7195 - val_dense_6_get_f1: 0.7351 - lr: 1.0000e-04\n",
      "Epoch 3/50\n",
      "45/45 [==============================] - ETA: 0s - loss: 1.1046 - dense_3_loss: 0.5402 - dense_6_loss: 0.5644 - dense_3_get_f1: 0.7315 - dense_6_get_f1: 0.7116WARNING:tensorflow:Can save best model only with val_f1_m available, skipping.\n",
      "WARNING:tensorflow:Early stopping conditioned on metric `val_f1_m` which is not available. Available metrics are: loss,dense_3_loss,dense_6_loss,dense_3_get_f1,dense_6_get_f1,val_loss,val_dense_3_loss,val_dense_6_loss,val_dense_3_get_f1,val_dense_6_get_f1\n",
      "WARNING:tensorflow:Learning rate reduction is conditioned on metric `val_f1_m` which is not available. Available metrics are: loss,dense_3_loss,dense_6_loss,dense_3_get_f1,dense_6_get_f1,val_loss,val_dense_3_loss,val_dense_6_loss,val_dense_3_get_f1,val_dense_6_get_f1,lr\n",
      "45/45 [==============================] - 8s 181ms/step - loss: 1.1046 - dense_3_loss: 0.5402 - dense_6_loss: 0.5644 - dense_3_get_f1: 0.7315 - dense_6_get_f1: 0.7116 - val_loss: 1.0662 - val_dense_3_loss: 0.5263 - val_dense_6_loss: 0.5399 - val_dense_3_get_f1: 0.7286 - val_dense_6_get_f1: 0.7082 - lr: 1.0000e-04\n",
      "Epoch 4/50\n",
      "45/45 [==============================] - ETA: 0s - loss: 1.0483 - dense_3_loss: 0.5232 - dense_6_loss: 0.5251 - dense_3_get_f1: 0.7390 - dense_6_get_f1: 0.7383WARNING:tensorflow:Can save best model only with val_f1_m available, skipping.\n",
      "WARNING:tensorflow:Early stopping conditioned on metric `val_f1_m` which is not available. Available metrics are: loss,dense_3_loss,dense_6_loss,dense_3_get_f1,dense_6_get_f1,val_loss,val_dense_3_loss,val_dense_6_loss,val_dense_3_get_f1,val_dense_6_get_f1\n",
      "WARNING:tensorflow:Learning rate reduction is conditioned on metric `val_f1_m` which is not available. Available metrics are: loss,dense_3_loss,dense_6_loss,dense_3_get_f1,dense_6_get_f1,val_loss,val_dense_3_loss,val_dense_6_loss,val_dense_3_get_f1,val_dense_6_get_f1,lr\n",
      "45/45 [==============================] - 9s 191ms/step - loss: 1.0483 - dense_3_loss: 0.5232 - dense_6_loss: 0.5251 - dense_3_get_f1: 0.7390 - dense_6_get_f1: 0.7383 - val_loss: 1.0426 - val_dense_3_loss: 0.5244 - val_dense_6_loss: 0.5182 - val_dense_3_get_f1: 0.7119 - val_dense_6_get_f1: 0.7455 - lr: 1.0000e-04\n",
      "Epoch 5/50\n",
      "45/45 [==============================] - ETA: 0s - loss: 1.0112 - dense_3_loss: 0.5009 - dense_6_loss: 0.5103 - dense_3_get_f1: 0.7532 - dense_6_get_f1: 0.7460WARNING:tensorflow:Can save best model only with val_f1_m available, skipping.\n",
      "WARNING:tensorflow:Early stopping conditioned on metric `val_f1_m` which is not available. Available metrics are: loss,dense_3_loss,dense_6_loss,dense_3_get_f1,dense_6_get_f1,val_loss,val_dense_3_loss,val_dense_6_loss,val_dense_3_get_f1,val_dense_6_get_f1\n",
      "WARNING:tensorflow:Learning rate reduction is conditioned on metric `val_f1_m` which is not available. Available metrics are: loss,dense_3_loss,dense_6_loss,dense_3_get_f1,dense_6_get_f1,val_loss,val_dense_3_loss,val_dense_6_loss,val_dense_3_get_f1,val_dense_6_get_f1,lr\n",
      "45/45 [==============================] - 9s 194ms/step - loss: 1.0112 - dense_3_loss: 0.5009 - dense_6_loss: 0.5103 - dense_3_get_f1: 0.7532 - dense_6_get_f1: 0.7460 - val_loss: 1.0289 - val_dense_3_loss: 0.5148 - val_dense_6_loss: 0.5141 - val_dense_3_get_f1: 0.7314 - val_dense_6_get_f1: 0.7494 - lr: 1.0000e-04\n",
      "Epoch 6/50\n",
      "45/45 [==============================] - ETA: 0s - loss: 0.9828 - dense_3_loss: 0.4859 - dense_6_loss: 0.4969 - dense_3_get_f1: 0.7610 - dense_6_get_f1: 0.7488WARNING:tensorflow:Can save best model only with val_f1_m available, skipping.\n",
      "WARNING:tensorflow:Early stopping conditioned on metric `val_f1_m` which is not available. Available metrics are: loss,dense_3_loss,dense_6_loss,dense_3_get_f1,dense_6_get_f1,val_loss,val_dense_3_loss,val_dense_6_loss,val_dense_3_get_f1,val_dense_6_get_f1\n",
      "WARNING:tensorflow:Learning rate reduction is conditioned on metric `val_f1_m` which is not available. Available metrics are: loss,dense_3_loss,dense_6_loss,dense_3_get_f1,dense_6_get_f1,val_loss,val_dense_3_loss,val_dense_6_loss,val_dense_3_get_f1,val_dense_6_get_f1,lr\n",
      "45/45 [==============================] - 9s 192ms/step - loss: 0.9828 - dense_3_loss: 0.4859 - dense_6_loss: 0.4969 - dense_3_get_f1: 0.7610 - dense_6_get_f1: 0.7488 - val_loss: 1.0332 - val_dense_3_loss: 0.5187 - val_dense_6_loss: 0.5145 - val_dense_3_get_f1: 0.7325 - val_dense_6_get_f1: 0.7429 - lr: 1.0000e-04\n",
      "Epoch 7/50\n",
      "45/45 [==============================] - ETA: 0s - loss: 0.9599 - dense_3_loss: 0.4735 - dense_6_loss: 0.4863 - dense_3_get_f1: 0.7699 - dense_6_get_f1: 0.7571WARNING:tensorflow:Can save best model only with val_f1_m available, skipping.\n",
      "WARNING:tensorflow:Early stopping conditioned on metric `val_f1_m` which is not available. Available metrics are: loss,dense_3_loss,dense_6_loss,dense_3_get_f1,dense_6_get_f1,val_loss,val_dense_3_loss,val_dense_6_loss,val_dense_3_get_f1,val_dense_6_get_f1\n",
      "WARNING:tensorflow:Learning rate reduction is conditioned on metric `val_f1_m` which is not available. Available metrics are: loss,dense_3_loss,dense_6_loss,dense_3_get_f1,dense_6_get_f1,val_loss,val_dense_3_loss,val_dense_6_loss,val_dense_3_get_f1,val_dense_6_get_f1,lr\n",
      "45/45 [==============================] - 8s 184ms/step - loss: 0.9599 - dense_3_loss: 0.4735 - dense_6_loss: 0.4863 - dense_3_get_f1: 0.7699 - dense_6_get_f1: 0.7571 - val_loss: 1.0240 - val_dense_3_loss: 0.5093 - val_dense_6_loss: 0.5147 - val_dense_3_get_f1: 0.7390 - val_dense_6_get_f1: 0.7468 - lr: 1.0000e-04\n",
      "Epoch 8/50\n",
      "45/45 [==============================] - ETA: 0s - loss: 0.9389 - dense_3_loss: 0.4629 - dense_6_loss: 0.4760 - dense_3_get_f1: 0.7749 - dense_6_get_f1: 0.7627WARNING:tensorflow:Can save best model only with val_f1_m available, skipping.\n",
      "WARNING:tensorflow:Early stopping conditioned on metric `val_f1_m` which is not available. Available metrics are: loss,dense_3_loss,dense_6_loss,dense_3_get_f1,dense_6_get_f1,val_loss,val_dense_3_loss,val_dense_6_loss,val_dense_3_get_f1,val_dense_6_get_f1\n",
      "WARNING:tensorflow:Learning rate reduction is conditioned on metric `val_f1_m` which is not available. Available metrics are: loss,dense_3_loss,dense_6_loss,dense_3_get_f1,dense_6_get_f1,val_loss,val_dense_3_loss,val_dense_6_loss,val_dense_3_get_f1,val_dense_6_get_f1,lr\n"
     ]
    },
    {
     "name": "stdout",
     "output_type": "stream",
     "text": [
      "45/45 [==============================] - 8s 181ms/step - loss: 0.9389 - dense_3_loss: 0.4629 - dense_6_loss: 0.4760 - dense_3_get_f1: 0.7749 - dense_6_get_f1: 0.7627 - val_loss: 1.0259 - val_dense_3_loss: 0.5113 - val_dense_6_loss: 0.5146 - val_dense_3_get_f1: 0.7403 - val_dense_6_get_f1: 0.7455 - lr: 1.0000e-04\n",
      "Epoch 9/50\n",
      "45/45 [==============================] - ETA: 0s - loss: 0.9163 - dense_3_loss: 0.4511 - dense_6_loss: 0.4651 - dense_3_get_f1: 0.7790 - dense_6_get_f1: 0.7730WARNING:tensorflow:Can save best model only with val_f1_m available, skipping.\n",
      "WARNING:tensorflow:Early stopping conditioned on metric `val_f1_m` which is not available. Available metrics are: loss,dense_3_loss,dense_6_loss,dense_3_get_f1,dense_6_get_f1,val_loss,val_dense_3_loss,val_dense_6_loss,val_dense_3_get_f1,val_dense_6_get_f1\n",
      "WARNING:tensorflow:Learning rate reduction is conditioned on metric `val_f1_m` which is not available. Available metrics are: loss,dense_3_loss,dense_6_loss,dense_3_get_f1,dense_6_get_f1,val_loss,val_dense_3_loss,val_dense_6_loss,val_dense_3_get_f1,val_dense_6_get_f1,lr\n",
      "45/45 [==============================] - 8s 178ms/step - loss: 0.9163 - dense_3_loss: 0.4511 - dense_6_loss: 0.4651 - dense_3_get_f1: 0.7790 - dense_6_get_f1: 0.7730 - val_loss: 1.0132 - val_dense_3_loss: 0.5058 - val_dense_6_loss: 0.5074 - val_dense_3_get_f1: 0.7301 - val_dense_6_get_f1: 0.7442 - lr: 1.0000e-04\n",
      "Epoch 10/50\n",
      "45/45 [==============================] - ETA: 0s - loss: 0.9024 - dense_3_loss: 0.4435 - dense_6_loss: 0.4589 - dense_3_get_f1: 0.7824 - dense_6_get_f1: 0.7724WARNING:tensorflow:Can save best model only with val_f1_m available, skipping.\n",
      "WARNING:tensorflow:Early stopping conditioned on metric `val_f1_m` which is not available. Available metrics are: loss,dense_3_loss,dense_6_loss,dense_3_get_f1,dense_6_get_f1,val_loss,val_dense_3_loss,val_dense_6_loss,val_dense_3_get_f1,val_dense_6_get_f1\n",
      "WARNING:tensorflow:Learning rate reduction is conditioned on metric `val_f1_m` which is not available. Available metrics are: loss,dense_3_loss,dense_6_loss,dense_3_get_f1,dense_6_get_f1,val_loss,val_dense_3_loss,val_dense_6_loss,val_dense_3_get_f1,val_dense_6_get_f1,lr\n",
      "45/45 [==============================] - 8s 174ms/step - loss: 0.9024 - dense_3_loss: 0.4435 - dense_6_loss: 0.4589 - dense_3_get_f1: 0.7824 - dense_6_get_f1: 0.7724 - val_loss: 1.0164 - val_dense_3_loss: 0.5060 - val_dense_6_loss: 0.5104 - val_dense_3_get_f1: 0.7351 - val_dense_6_get_f1: 0.7364 - lr: 1.0000e-04\n",
      "Epoch 11/50\n",
      "45/45 [==============================] - ETA: 0s - loss: 0.8686 - dense_3_loss: 0.4275 - dense_6_loss: 0.4411 - dense_3_get_f1: 0.7963 - dense_6_get_f1: 0.7876WARNING:tensorflow:Can save best model only with val_f1_m available, skipping.\n",
      "WARNING:tensorflow:Early stopping conditioned on metric `val_f1_m` which is not available. Available metrics are: loss,dense_3_loss,dense_6_loss,dense_3_get_f1,dense_6_get_f1,val_loss,val_dense_3_loss,val_dense_6_loss,val_dense_3_get_f1,val_dense_6_get_f1\n",
      "WARNING:tensorflow:Learning rate reduction is conditioned on metric `val_f1_m` which is not available. Available metrics are: loss,dense_3_loss,dense_6_loss,dense_3_get_f1,dense_6_get_f1,val_loss,val_dense_3_loss,val_dense_6_loss,val_dense_3_get_f1,val_dense_6_get_f1,lr\n",
      "45/45 [==============================] - 8s 179ms/step - loss: 0.8686 - dense_3_loss: 0.4275 - dense_6_loss: 0.4411 - dense_3_get_f1: 0.7963 - dense_6_get_f1: 0.7876 - val_loss: 1.0271 - val_dense_3_loss: 0.5165 - val_dense_6_loss: 0.5106 - val_dense_3_get_f1: 0.7275 - val_dense_6_get_f1: 0.7403 - lr: 1.0000e-04\n",
      "Epoch 12/50\n",
      "45/45 [==============================] - ETA: 0s - loss: 0.8466 - dense_3_loss: 0.4155 - dense_6_loss: 0.4310 - dense_3_get_f1: 0.7946 - dense_6_get_f1: 0.7919WARNING:tensorflow:Can save best model only with val_f1_m available, skipping.\n",
      "WARNING:tensorflow:Early stopping conditioned on metric `val_f1_m` which is not available. Available metrics are: loss,dense_3_loss,dense_6_loss,dense_3_get_f1,dense_6_get_f1,val_loss,val_dense_3_loss,val_dense_6_loss,val_dense_3_get_f1,val_dense_6_get_f1\n",
      "WARNING:tensorflow:Learning rate reduction is conditioned on metric `val_f1_m` which is not available. Available metrics are: loss,dense_3_loss,dense_6_loss,dense_3_get_f1,dense_6_get_f1,val_loss,val_dense_3_loss,val_dense_6_loss,val_dense_3_get_f1,val_dense_6_get_f1,lr\n",
      "45/45 [==============================] - 8s 183ms/step - loss: 0.8466 - dense_3_loss: 0.4155 - dense_6_loss: 0.4310 - dense_3_get_f1: 0.7946 - dense_6_get_f1: 0.7919 - val_loss: 1.0099 - val_dense_3_loss: 0.5041 - val_dense_6_loss: 0.5058 - val_dense_3_get_f1: 0.7353 - val_dense_6_get_f1: 0.7390 - lr: 1.0000e-04\n",
      "Epoch 13/50\n",
      "45/45 [==============================] - ETA: 0s - loss: 0.8147 - dense_3_loss: 0.4009 - dense_6_loss: 0.4138 - dense_3_get_f1: 0.8151 - dense_6_get_f1: 0.8033WARNING:tensorflow:Can save best model only with val_f1_m available, skipping.\n",
      "WARNING:tensorflow:Early stopping conditioned on metric `val_f1_m` which is not available. Available metrics are: loss,dense_3_loss,dense_6_loss,dense_3_get_f1,dense_6_get_f1,val_loss,val_dense_3_loss,val_dense_6_loss,val_dense_3_get_f1,val_dense_6_get_f1\n",
      "WARNING:tensorflow:Learning rate reduction is conditioned on metric `val_f1_m` which is not available. Available metrics are: loss,dense_3_loss,dense_6_loss,dense_3_get_f1,dense_6_get_f1,val_loss,val_dense_3_loss,val_dense_6_loss,val_dense_3_get_f1,val_dense_6_get_f1,lr\n",
      "45/45 [==============================] - 8s 184ms/step - loss: 0.8147 - dense_3_loss: 0.4009 - dense_6_loss: 0.4138 - dense_3_get_f1: 0.8151 - dense_6_get_f1: 0.8033 - val_loss: 1.0049 - val_dense_3_loss: 0.5043 - val_dense_6_loss: 0.5006 - val_dense_3_get_f1: 0.7377 - val_dense_6_get_f1: 0.7351 - lr: 1.0000e-04\n",
      "Epoch 14/50\n",
      "45/45 [==============================] - ETA: 0s - loss: 0.8388 - dense_3_loss: 0.4151 - dense_6_loss: 0.4236 - dense_3_get_f1: 0.7998 - dense_6_get_f1: 0.7963WARNING:tensorflow:Can save best model only with val_f1_m available, skipping.\n",
      "WARNING:tensorflow:Early stopping conditioned on metric `val_f1_m` which is not available. Available metrics are: loss,dense_3_loss,dense_6_loss,dense_3_get_f1,dense_6_get_f1,val_loss,val_dense_3_loss,val_dense_6_loss,val_dense_3_get_f1,val_dense_6_get_f1\n",
      "WARNING:tensorflow:Learning rate reduction is conditioned on metric `val_f1_m` which is not available. Available metrics are: loss,dense_3_loss,dense_6_loss,dense_3_get_f1,dense_6_get_f1,val_loss,val_dense_3_loss,val_dense_6_loss,val_dense_3_get_f1,val_dense_6_get_f1,lr\n",
      "45/45 [==============================] - 8s 176ms/step - loss: 0.8388 - dense_3_loss: 0.4151 - dense_6_loss: 0.4236 - dense_3_get_f1: 0.7998 - dense_6_get_f1: 0.7963 - val_loss: 1.0147 - val_dense_3_loss: 0.5135 - val_dense_6_loss: 0.5011 - val_dense_3_get_f1: 0.7340 - val_dense_6_get_f1: 0.7416 - lr: 1.0000e-04\n",
      "Epoch 15/50\n",
      "45/45 [==============================] - ETA: 0s - loss: 0.7616 - dense_3_loss: 0.3743 - dense_6_loss: 0.3873 - dense_3_get_f1: 0.8355 - dense_6_get_f1: 0.8279WARNING:tensorflow:Can save best model only with val_f1_m available, skipping.\n",
      "WARNING:tensorflow:Early stopping conditioned on metric `val_f1_m` which is not available. Available metrics are: loss,dense_3_loss,dense_6_loss,dense_3_get_f1,dense_6_get_f1,val_loss,val_dense_3_loss,val_dense_6_loss,val_dense_3_get_f1,val_dense_6_get_f1\n",
      "WARNING:tensorflow:Learning rate reduction is conditioned on metric `val_f1_m` which is not available. Available metrics are: loss,dense_3_loss,dense_6_loss,dense_3_get_f1,dense_6_get_f1,val_loss,val_dense_3_loss,val_dense_6_loss,val_dense_3_get_f1,val_dense_6_get_f1,lr\n",
      "45/45 [==============================] - 8s 175ms/step - loss: 0.7616 - dense_3_loss: 0.3743 - dense_6_loss: 0.3873 - dense_3_get_f1: 0.8355 - dense_6_get_f1: 0.8279 - val_loss: 1.0268 - val_dense_3_loss: 0.5148 - val_dense_6_loss: 0.5120 - val_dense_3_get_f1: 0.7314 - val_dense_6_get_f1: 0.7468 - lr: 1.0000e-04\n",
      "Epoch 16/50\n",
      "45/45 [==============================] - ETA: 0s - loss: 0.7188 - dense_3_loss: 0.3518 - dense_6_loss: 0.3670 - dense_3_get_f1: 0.8511 - dense_6_get_f1: 0.8390WARNING:tensorflow:Can save best model only with val_f1_m available, skipping.\n"
     ]
    },
    {
     "name": "stdout",
     "output_type": "stream",
     "text": [
      "WARNING:tensorflow:Early stopping conditioned on metric `val_f1_m` which is not available. Available metrics are: loss,dense_3_loss,dense_6_loss,dense_3_get_f1,dense_6_get_f1,val_loss,val_dense_3_loss,val_dense_6_loss,val_dense_3_get_f1,val_dense_6_get_f1\n",
      "WARNING:tensorflow:Learning rate reduction is conditioned on metric `val_f1_m` which is not available. Available metrics are: loss,dense_3_loss,dense_6_loss,dense_3_get_f1,dense_6_get_f1,val_loss,val_dense_3_loss,val_dense_6_loss,val_dense_3_get_f1,val_dense_6_get_f1,lr\n",
      "45/45 [==============================] - 8s 182ms/step - loss: 0.7188 - dense_3_loss: 0.3518 - dense_6_loss: 0.3670 - dense_3_get_f1: 0.8511 - dense_6_get_f1: 0.8390 - val_loss: 1.0735 - val_dense_3_loss: 0.5376 - val_dense_6_loss: 0.5358 - val_dense_3_get_f1: 0.7171 - val_dense_6_get_f1: 0.7390 - lr: 1.0000e-04\n",
      "Epoch 17/50\n",
      "45/45 [==============================] - ETA: 0s - loss: 0.6794 - dense_3_loss: 0.3346 - dense_6_loss: 0.3447 - dense_3_get_f1: 0.8664 - dense_6_get_f1: 0.8594WARNING:tensorflow:Can save best model only with val_f1_m available, skipping.\n",
      "WARNING:tensorflow:Early stopping conditioned on metric `val_f1_m` which is not available. Available metrics are: loss,dense_3_loss,dense_6_loss,dense_3_get_f1,dense_6_get_f1,val_loss,val_dense_3_loss,val_dense_6_loss,val_dense_3_get_f1,val_dense_6_get_f1\n",
      "WARNING:tensorflow:Learning rate reduction is conditioned on metric `val_f1_m` which is not available. Available metrics are: loss,dense_3_loss,dense_6_loss,dense_3_get_f1,dense_6_get_f1,val_loss,val_dense_3_loss,val_dense_6_loss,val_dense_3_get_f1,val_dense_6_get_f1,lr\n",
      "45/45 [==============================] - 8s 185ms/step - loss: 0.6794 - dense_3_loss: 0.3346 - dense_6_loss: 0.3447 - dense_3_get_f1: 0.8664 - dense_6_get_f1: 0.8594 - val_loss: 1.0267 - val_dense_3_loss: 0.5072 - val_dense_6_loss: 0.5195 - val_dense_3_get_f1: 0.7507 - val_dense_6_get_f1: 0.7403 - lr: 1.0000e-04\n",
      "Epoch 18/50\n",
      "45/45 [==============================] - ETA: 0s - loss: 0.6521 - dense_3_loss: 0.3246 - dense_6_loss: 0.3275 - dense_3_get_f1: 0.8678 - dense_6_get_f1: 0.8629WARNING:tensorflow:Can save best model only with val_f1_m available, skipping.\n",
      "WARNING:tensorflow:Early stopping conditioned on metric `val_f1_m` which is not available. Available metrics are: loss,dense_3_loss,dense_6_loss,dense_3_get_f1,dense_6_get_f1,val_loss,val_dense_3_loss,val_dense_6_loss,val_dense_3_get_f1,val_dense_6_get_f1\n",
      "WARNING:tensorflow:Learning rate reduction is conditioned on metric `val_f1_m` which is not available. Available metrics are: loss,dense_3_loss,dense_6_loss,dense_3_get_f1,dense_6_get_f1,val_loss,val_dense_3_loss,val_dense_6_loss,val_dense_3_get_f1,val_dense_6_get_f1,lr\n",
      "45/45 [==============================] - 8s 181ms/step - loss: 0.6521 - dense_3_loss: 0.3246 - dense_6_loss: 0.3275 - dense_3_get_f1: 0.8678 - dense_6_get_f1: 0.8629 - val_loss: 1.0317 - val_dense_3_loss: 0.5135 - val_dense_6_loss: 0.5182 - val_dense_3_get_f1: 0.7442 - val_dense_6_get_f1: 0.7288 - lr: 1.0000e-04\n",
      "Epoch 19/50\n",
      "45/45 [==============================] - ETA: 0s - loss: 0.6835 - dense_3_loss: 0.3196 - dense_6_loss: 0.3639 - dense_3_get_f1: 0.8650 - dense_6_get_f1: 0.8411WARNING:tensorflow:Can save best model only with val_f1_m available, skipping.\n",
      "WARNING:tensorflow:Early stopping conditioned on metric `val_f1_m` which is not available. Available metrics are: loss,dense_3_loss,dense_6_loss,dense_3_get_f1,dense_6_get_f1,val_loss,val_dense_3_loss,val_dense_6_loss,val_dense_3_get_f1,val_dense_6_get_f1\n",
      "WARNING:tensorflow:Learning rate reduction is conditioned on metric `val_f1_m` which is not available. Available metrics are: loss,dense_3_loss,dense_6_loss,dense_3_get_f1,dense_6_get_f1,val_loss,val_dense_3_loss,val_dense_6_loss,val_dense_3_get_f1,val_dense_6_get_f1,lr\n",
      "45/45 [==============================] - 8s 174ms/step - loss: 0.6835 - dense_3_loss: 0.3196 - dense_6_loss: 0.3639 - dense_3_get_f1: 0.8650 - dense_6_get_f1: 0.8411 - val_loss: 1.0527 - val_dense_3_loss: 0.5255 - val_dense_6_loss: 0.5272 - val_dense_3_get_f1: 0.7403 - val_dense_6_get_f1: 0.7390 - lr: 1.0000e-04\n",
      "Epoch 20/50\n",
      "45/45 [==============================] - ETA: 0s - loss: 0.5786 - dense_3_loss: 0.2923 - dense_6_loss: 0.2863 - dense_3_get_f1: 0.8866 - dense_6_get_f1: 0.8866WARNING:tensorflow:Can save best model only with val_f1_m available, skipping.\n",
      "WARNING:tensorflow:Early stopping conditioned on metric `val_f1_m` which is not available. Available metrics are: loss,dense_3_loss,dense_6_loss,dense_3_get_f1,dense_6_get_f1,val_loss,val_dense_3_loss,val_dense_6_loss,val_dense_3_get_f1,val_dense_6_get_f1\n",
      "WARNING:tensorflow:Learning rate reduction is conditioned on metric `val_f1_m` which is not available. Available metrics are: loss,dense_3_loss,dense_6_loss,dense_3_get_f1,dense_6_get_f1,val_loss,val_dense_3_loss,val_dense_6_loss,val_dense_3_get_f1,val_dense_6_get_f1,lr\n",
      "45/45 [==============================] - 8s 176ms/step - loss: 0.5786 - dense_3_loss: 0.2923 - dense_6_loss: 0.2863 - dense_3_get_f1: 0.8866 - dense_6_get_f1: 0.8866 - val_loss: 1.0406 - val_dense_3_loss: 0.5212 - val_dense_6_loss: 0.5193 - val_dense_3_get_f1: 0.7507 - val_dense_6_get_f1: 0.7390 - lr: 1.0000e-04\n",
      "Epoch 21/50\n",
      "45/45 [==============================] - ETA: 0s - loss: 0.5427 - dense_3_loss: 0.2774 - dense_6_loss: 0.2653 - dense_3_get_f1: 0.9042 - dense_6_get_f1: 0.9056WARNING:tensorflow:Can save best model only with val_f1_m available, skipping.\n",
      "WARNING:tensorflow:Early stopping conditioned on metric `val_f1_m` which is not available. Available metrics are: loss,dense_3_loss,dense_6_loss,dense_3_get_f1,dense_6_get_f1,val_loss,val_dense_3_loss,val_dense_6_loss,val_dense_3_get_f1,val_dense_6_get_f1\n",
      "WARNING:tensorflow:Learning rate reduction is conditioned on metric `val_f1_m` which is not available. Available metrics are: loss,dense_3_loss,dense_6_loss,dense_3_get_f1,dense_6_get_f1,val_loss,val_dense_3_loss,val_dense_6_loss,val_dense_3_get_f1,val_dense_6_get_f1,lr\n",
      "45/45 [==============================] - 8s 181ms/step - loss: 0.5427 - dense_3_loss: 0.2774 - dense_6_loss: 0.2653 - dense_3_get_f1: 0.9042 - dense_6_get_f1: 0.9056 - val_loss: 1.0734 - val_dense_3_loss: 0.5360 - val_dense_6_loss: 0.5374 - val_dense_3_get_f1: 0.7314 - val_dense_6_get_f1: 0.7249 - lr: 1.0000e-04\n",
      "Epoch 22/50\n",
      "45/45 [==============================] - ETA: 0s - loss: 0.5194 - dense_3_loss: 0.2666 - dense_6_loss: 0.2528 - dense_3_get_f1: 0.9077 - dense_6_get_f1: 0.9084WARNING:tensorflow:Can save best model only with val_f1_m available, skipping.\n",
      "WARNING:tensorflow:Early stopping conditioned on metric `val_f1_m` which is not available. Available metrics are: loss,dense_3_loss,dense_6_loss,dense_3_get_f1,dense_6_get_f1,val_loss,val_dense_3_loss,val_dense_6_loss,val_dense_3_get_f1,val_dense_6_get_f1\n",
      "WARNING:tensorflow:Learning rate reduction is conditioned on metric `val_f1_m` which is not available. Available metrics are: loss,dense_3_loss,dense_6_loss,dense_3_get_f1,dense_6_get_f1,val_loss,val_dense_3_loss,val_dense_6_loss,val_dense_3_get_f1,val_dense_6_get_f1,lr\n",
      "45/45 [==============================] - 8s 188ms/step - loss: 0.5194 - dense_3_loss: 0.2666 - dense_6_loss: 0.2528 - dense_3_get_f1: 0.9077 - dense_6_get_f1: 0.9084 - val_loss: 1.0625 - val_dense_3_loss: 0.5346 - val_dense_6_loss: 0.5279 - val_dense_3_get_f1: 0.7494 - val_dense_6_get_f1: 0.7390 - lr: 1.0000e-04\n",
      "Epoch 23/50\n",
      "45/45 [==============================] - ETA: 0s - loss: 0.4736 - dense_3_loss: 0.2460 - dense_6_loss: 0.2276 - dense_3_get_f1: 0.9208 - dense_6_get_f1: 0.9254WARNING:tensorflow:Can save best model only with val_f1_m available, skipping.\n",
      "WARNING:tensorflow:Early stopping conditioned on metric `val_f1_m` which is not available. Available metrics are: loss,dense_3_loss,dense_6_loss,dense_3_get_f1,dense_6_get_f1,val_loss,val_dense_3_loss,val_dense_6_loss,val_dense_3_get_f1,val_dense_6_get_f1\n",
      "WARNING:tensorflow:Learning rate reduction is conditioned on metric `val_f1_m` which is not available. Available metrics are: loss,dense_3_loss,dense_6_loss,dense_3_get_f1,dense_6_get_f1,val_loss,val_dense_3_loss,val_dense_6_loss,val_dense_3_get_f1,val_dense_6_get_f1,lr\n",
      "45/45 [==============================] - 8s 181ms/step - loss: 0.4736 - dense_3_loss: 0.2460 - dense_6_loss: 0.2276 - dense_3_get_f1: 0.9208 - dense_6_get_f1: 0.9254 - val_loss: 1.0733 - val_dense_3_loss: 0.5379 - val_dense_6_loss: 0.5354 - val_dense_3_get_f1: 0.7455 - val_dense_6_get_f1: 0.7325 - lr: 1.0000e-04\n"
     ]
    },
    {
     "name": "stdout",
     "output_type": "stream",
     "text": [
      "Epoch 24/50\n",
      "45/45 [==============================] - ETA: 0s - loss: 0.4450 - dense_3_loss: 0.2286 - dense_6_loss: 0.2164 - dense_3_get_f1: 0.9344 - dense_6_get_f1: 0.9396WARNING:tensorflow:Can save best model only with val_f1_m available, skipping.\n",
      "WARNING:tensorflow:Early stopping conditioned on metric `val_f1_m` which is not available. Available metrics are: loss,dense_3_loss,dense_6_loss,dense_3_get_f1,dense_6_get_f1,val_loss,val_dense_3_loss,val_dense_6_loss,val_dense_3_get_f1,val_dense_6_get_f1\n",
      "WARNING:tensorflow:Learning rate reduction is conditioned on metric `val_f1_m` which is not available. Available metrics are: loss,dense_3_loss,dense_6_loss,dense_3_get_f1,dense_6_get_f1,val_loss,val_dense_3_loss,val_dense_6_loss,val_dense_3_get_f1,val_dense_6_get_f1,lr\n",
      "45/45 [==============================] - 8s 174ms/step - loss: 0.4450 - dense_3_loss: 0.2286 - dense_6_loss: 0.2164 - dense_3_get_f1: 0.9344 - dense_6_get_f1: 0.9396 - val_loss: 1.1002 - val_dense_3_loss: 0.5513 - val_dense_6_loss: 0.5489 - val_dense_3_get_f1: 0.7299 - val_dense_6_get_f1: 0.7364 - lr: 1.0000e-04\n",
      "Epoch 25/50\n",
      "45/45 [==============================] - ETA: 0s - loss: 0.4299 - dense_3_loss: 0.2214 - dense_6_loss: 0.2085 - dense_3_get_f1: 0.9361 - dense_6_get_f1: 0.9337WARNING:tensorflow:Can save best model only with val_f1_m available, skipping.\n",
      "WARNING:tensorflow:Early stopping conditioned on metric `val_f1_m` which is not available. Available metrics are: loss,dense_3_loss,dense_6_loss,dense_3_get_f1,dense_6_get_f1,val_loss,val_dense_3_loss,val_dense_6_loss,val_dense_3_get_f1,val_dense_6_get_f1\n",
      "WARNING:tensorflow:Learning rate reduction is conditioned on metric `val_f1_m` which is not available. Available metrics are: loss,dense_3_loss,dense_6_loss,dense_3_get_f1,dense_6_get_f1,val_loss,val_dense_3_loss,val_dense_6_loss,val_dense_3_get_f1,val_dense_6_get_f1,lr\n",
      "45/45 [==============================] - 8s 177ms/step - loss: 0.4299 - dense_3_loss: 0.2214 - dense_6_loss: 0.2085 - dense_3_get_f1: 0.9361 - dense_6_get_f1: 0.9337 - val_loss: 1.1026 - val_dense_3_loss: 0.5513 - val_dense_6_loss: 0.5513 - val_dense_3_get_f1: 0.7405 - val_dense_6_get_f1: 0.7197 - lr: 1.0000e-04\n",
      "Epoch 26/50\n",
      "45/45 [==============================] - ETA: 0s - loss: 0.3962 - dense_3_loss: 0.2050 - dense_6_loss: 0.1913 - dense_3_get_f1: 0.9469 - dense_6_get_f1: 0.9406WARNING:tensorflow:Can save best model only with val_f1_m available, skipping.\n",
      "WARNING:tensorflow:Early stopping conditioned on metric `val_f1_m` which is not available. Available metrics are: loss,dense_3_loss,dense_6_loss,dense_3_get_f1,dense_6_get_f1,val_loss,val_dense_3_loss,val_dense_6_loss,val_dense_3_get_f1,val_dense_6_get_f1\n",
      "WARNING:tensorflow:Learning rate reduction is conditioned on metric `val_f1_m` which is not available. Available metrics are: loss,dense_3_loss,dense_6_loss,dense_3_get_f1,dense_6_get_f1,val_loss,val_dense_3_loss,val_dense_6_loss,val_dense_3_get_f1,val_dense_6_get_f1,lr\n",
      "45/45 [==============================] - 8s 184ms/step - loss: 0.3962 - dense_3_loss: 0.2050 - dense_6_loss: 0.1913 - dense_3_get_f1: 0.9469 - dense_6_get_f1: 0.9406 - val_loss: 1.0985 - val_dense_3_loss: 0.5522 - val_dense_6_loss: 0.5463 - val_dense_3_get_f1: 0.7442 - val_dense_6_get_f1: 0.7377 - lr: 1.0000e-04\n",
      "Epoch 27/50\n",
      "45/45 [==============================] - ETA: 0s - loss: 0.3556 - dense_3_loss: 0.1882 - dense_6_loss: 0.1674 - dense_3_get_f1: 0.9590 - dense_6_get_f1: 0.9594WARNING:tensorflow:Can save best model only with val_f1_m available, skipping.\n",
      "WARNING:tensorflow:Early stopping conditioned on metric `val_f1_m` which is not available. Available metrics are: loss,dense_3_loss,dense_6_loss,dense_3_get_f1,dense_6_get_f1,val_loss,val_dense_3_loss,val_dense_6_loss,val_dense_3_get_f1,val_dense_6_get_f1\n",
      "WARNING:tensorflow:Learning rate reduction is conditioned on metric `val_f1_m` which is not available. Available metrics are: loss,dense_3_loss,dense_6_loss,dense_3_get_f1,dense_6_get_f1,val_loss,val_dense_3_loss,val_dense_6_loss,val_dense_3_get_f1,val_dense_6_get_f1,lr\n",
      "45/45 [==============================] - 8s 181ms/step - loss: 0.3556 - dense_3_loss: 0.1882 - dense_6_loss: 0.1674 - dense_3_get_f1: 0.9590 - dense_6_get_f1: 0.9594 - val_loss: 1.1748 - val_dense_3_loss: 0.5902 - val_dense_6_loss: 0.5846 - val_dense_3_get_f1: 0.7236 - val_dense_6_get_f1: 0.7223 - lr: 1.0000e-04\n",
      "Epoch 28/50\n",
      "45/45 [==============================] - ETA: 0s - loss: 0.3334 - dense_3_loss: 0.1772 - dense_6_loss: 0.1562 - dense_3_get_f1: 0.9611 - dense_6_get_f1: 0.9640WARNING:tensorflow:Can save best model only with val_f1_m available, skipping.\n",
      "WARNING:tensorflow:Early stopping conditioned on metric `val_f1_m` which is not available. Available metrics are: loss,dense_3_loss,dense_6_loss,dense_3_get_f1,dense_6_get_f1,val_loss,val_dense_3_loss,val_dense_6_loss,val_dense_3_get_f1,val_dense_6_get_f1\n",
      "WARNING:tensorflow:Learning rate reduction is conditioned on metric `val_f1_m` which is not available. Available metrics are: loss,dense_3_loss,dense_6_loss,dense_3_get_f1,dense_6_get_f1,val_loss,val_dense_3_loss,val_dense_6_loss,val_dense_3_get_f1,val_dense_6_get_f1,lr\n",
      "45/45 [==============================] - 8s 180ms/step - loss: 0.3334 - dense_3_loss: 0.1772 - dense_6_loss: 0.1562 - dense_3_get_f1: 0.9611 - dense_6_get_f1: 0.9640 - val_loss: 1.1324 - val_dense_3_loss: 0.5705 - val_dense_6_loss: 0.5618 - val_dense_3_get_f1: 0.7390 - val_dense_6_get_f1: 0.7403 - lr: 1.0000e-04\n",
      "Epoch 29/50\n",
      "45/45 [==============================] - ETA: 0s - loss: 0.3219 - dense_3_loss: 0.1690 - dense_6_loss: 0.1528 - dense_3_get_f1: 0.9625 - dense_6_get_f1: 0.9671WARNING:tensorflow:Can save best model only with val_f1_m available, skipping.\n",
      "WARNING:tensorflow:Early stopping conditioned on metric `val_f1_m` which is not available. Available metrics are: loss,dense_3_loss,dense_6_loss,dense_3_get_f1,dense_6_get_f1,val_loss,val_dense_3_loss,val_dense_6_loss,val_dense_3_get_f1,val_dense_6_get_f1\n",
      "WARNING:tensorflow:Learning rate reduction is conditioned on metric `val_f1_m` which is not available. Available metrics are: loss,dense_3_loss,dense_6_loss,dense_3_get_f1,dense_6_get_f1,val_loss,val_dense_3_loss,val_dense_6_loss,val_dense_3_get_f1,val_dense_6_get_f1,lr\n",
      "45/45 [==============================] - 8s 176ms/step - loss: 0.3219 - dense_3_loss: 0.1690 - dense_6_loss: 0.1528 - dense_3_get_f1: 0.9625 - dense_6_get_f1: 0.9671 - val_loss: 1.1734 - val_dense_3_loss: 0.5886 - val_dense_6_loss: 0.5848 - val_dense_3_get_f1: 0.7314 - val_dense_6_get_f1: 0.7249 - lr: 1.0000e-04\n",
      "Epoch 30/50\n",
      "45/45 [==============================] - ETA: 0s - loss: 0.2857 - dense_3_loss: 0.1529 - dense_6_loss: 0.1328 - dense_3_get_f1: 0.9702 - dense_6_get_f1: 0.9771WARNING:tensorflow:Can save best model only with val_f1_m available, skipping.\n",
      "WARNING:tensorflow:Early stopping conditioned on metric `val_f1_m` which is not available. Available metrics are: loss,dense_3_loss,dense_6_loss,dense_3_get_f1,dense_6_get_f1,val_loss,val_dense_3_loss,val_dense_6_loss,val_dense_3_get_f1,val_dense_6_get_f1\n",
      "WARNING:tensorflow:Learning rate reduction is conditioned on metric `val_f1_m` which is not available. Available metrics are: loss,dense_3_loss,dense_6_loss,dense_3_get_f1,dense_6_get_f1,val_loss,val_dense_3_loss,val_dense_6_loss,val_dense_3_get_f1,val_dense_6_get_f1,lr\n",
      "45/45 [==============================] - 8s 181ms/step - loss: 0.2857 - dense_3_loss: 0.1529 - dense_6_loss: 0.1328 - dense_3_get_f1: 0.9702 - dense_6_get_f1: 0.9771 - val_loss: 1.1940 - val_dense_3_loss: 0.6031 - val_dense_6_loss: 0.5909 - val_dense_3_get_f1: 0.7366 - val_dense_6_get_f1: 0.7236 - lr: 1.0000e-04\n",
      "Epoch 31/50\n",
      "45/45 [==============================] - ETA: 0s - loss: 0.2853 - dense_3_loss: 0.1475 - dense_6_loss: 0.1378 - dense_3_get_f1: 0.9733 - dense_6_get_f1: 0.9705WARNING:tensorflow:Can save best model only with val_f1_m available, skipping.\n",
      "WARNING:tensorflow:Early stopping conditioned on metric `val_f1_m` which is not available. Available metrics are: loss,dense_3_loss,dense_6_loss,dense_3_get_f1,dense_6_get_f1,val_loss,val_dense_3_loss,val_dense_6_loss,val_dense_3_get_f1,val_dense_6_get_f1\n",
      "WARNING:tensorflow:Learning rate reduction is conditioned on metric `val_f1_m` which is not available. Available metrics are: loss,dense_3_loss,dense_6_loss,dense_3_get_f1,dense_6_get_f1,val_loss,val_dense_3_loss,val_dense_6_loss,val_dense_3_get_f1,val_dense_6_get_f1,lr\n"
     ]
    },
    {
     "name": "stdout",
     "output_type": "stream",
     "text": [
      "45/45 [==============================] - 8s 184ms/step - loss: 0.2853 - dense_3_loss: 0.1475 - dense_6_loss: 0.1378 - dense_3_get_f1: 0.9733 - dense_6_get_f1: 0.9705 - val_loss: 1.1912 - val_dense_3_loss: 0.5923 - val_dense_6_loss: 0.5989 - val_dense_3_get_f1: 0.7338 - val_dense_6_get_f1: 0.7299 - lr: 1.0000e-04\n",
      "Epoch 32/50\n",
      "45/45 [==============================] - ETA: 0s - loss: 0.2500 - dense_3_loss: 0.1321 - dense_6_loss: 0.1180 - dense_3_get_f1: 0.9774 - dense_6_get_f1: 0.9747WARNING:tensorflow:Can save best model only with val_f1_m available, skipping.\n",
      "WARNING:tensorflow:Early stopping conditioned on metric `val_f1_m` which is not available. Available metrics are: loss,dense_3_loss,dense_6_loss,dense_3_get_f1,dense_6_get_f1,val_loss,val_dense_3_loss,val_dense_6_loss,val_dense_3_get_f1,val_dense_6_get_f1\n",
      "WARNING:tensorflow:Learning rate reduction is conditioned on metric `val_f1_m` which is not available. Available metrics are: loss,dense_3_loss,dense_6_loss,dense_3_get_f1,dense_6_get_f1,val_loss,val_dense_3_loss,val_dense_6_loss,val_dense_3_get_f1,val_dense_6_get_f1,lr\n",
      "45/45 [==============================] - 8s 182ms/step - loss: 0.2500 - dense_3_loss: 0.1321 - dense_6_loss: 0.1180 - dense_3_get_f1: 0.9774 - dense_6_get_f1: 0.9747 - val_loss: 1.1910 - val_dense_3_loss: 0.6028 - val_dense_6_loss: 0.5882 - val_dense_3_get_f1: 0.7377 - val_dense_6_get_f1: 0.7377 - lr: 1.0000e-04\n",
      "Epoch 33/50\n",
      "45/45 [==============================] - ETA: 0s - loss: 0.2281 - dense_3_loss: 0.1226 - dense_6_loss: 0.1055 - dense_3_get_f1: 0.9823 - dense_6_get_f1: 0.9861WARNING:tensorflow:Can save best model only with val_f1_m available, skipping.\n",
      "WARNING:tensorflow:Early stopping conditioned on metric `val_f1_m` which is not available. Available metrics are: loss,dense_3_loss,dense_6_loss,dense_3_get_f1,dense_6_get_f1,val_loss,val_dense_3_loss,val_dense_6_loss,val_dense_3_get_f1,val_dense_6_get_f1\n",
      "WARNING:tensorflow:Learning rate reduction is conditioned on metric `val_f1_m` which is not available. Available metrics are: loss,dense_3_loss,dense_6_loss,dense_3_get_f1,dense_6_get_f1,val_loss,val_dense_3_loss,val_dense_6_loss,val_dense_3_get_f1,val_dense_6_get_f1,lr\n",
      "45/45 [==============================] - 8s 177ms/step - loss: 0.2281 - dense_3_loss: 0.1226 - dense_6_loss: 0.1055 - dense_3_get_f1: 0.9823 - dense_6_get_f1: 0.9861 - val_loss: 1.2350 - val_dense_3_loss: 0.6194 - val_dense_6_loss: 0.6156 - val_dense_3_get_f1: 0.7273 - val_dense_6_get_f1: 0.7286 - lr: 1.0000e-04\n",
      "Epoch 34/50\n",
      "45/45 [==============================] - ETA: 0s - loss: 0.2082 - dense_3_loss: 0.1122 - dense_6_loss: 0.0961 - dense_3_get_f1: 0.9851 - dense_6_get_f1: 0.9913WARNING:tensorflow:Can save best model only with val_f1_m available, skipping.\n",
      "WARNING:tensorflow:Early stopping conditioned on metric `val_f1_m` which is not available. Available metrics are: loss,dense_3_loss,dense_6_loss,dense_3_get_f1,dense_6_get_f1,val_loss,val_dense_3_loss,val_dense_6_loss,val_dense_3_get_f1,val_dense_6_get_f1\n",
      "WARNING:tensorflow:Learning rate reduction is conditioned on metric `val_f1_m` which is not available. Available metrics are: loss,dense_3_loss,dense_6_loss,dense_3_get_f1,dense_6_get_f1,val_loss,val_dense_3_loss,val_dense_6_loss,val_dense_3_get_f1,val_dense_6_get_f1,lr\n",
      "45/45 [==============================] - 8s 175ms/step - loss: 0.2082 - dense_3_loss: 0.1122 - dense_6_loss: 0.0961 - dense_3_get_f1: 0.9851 - dense_6_get_f1: 0.9913 - val_loss: 1.2691 - val_dense_3_loss: 0.6409 - val_dense_6_loss: 0.6283 - val_dense_3_get_f1: 0.7327 - val_dense_6_get_f1: 0.7210 - lr: 1.0000e-04\n",
      "Epoch 35/50\n",
      "45/45 [==============================] - ETA: 0s - loss: 0.1905 - dense_3_loss: 0.1024 - dense_6_loss: 0.0881 - dense_3_get_f1: 0.9899 - dense_6_get_f1: 0.9910WARNING:tensorflow:Can save best model only with val_f1_m available, skipping.\n",
      "WARNING:tensorflow:Early stopping conditioned on metric `val_f1_m` which is not available. Available metrics are: loss,dense_3_loss,dense_6_loss,dense_3_get_f1,dense_6_get_f1,val_loss,val_dense_3_loss,val_dense_6_loss,val_dense_3_get_f1,val_dense_6_get_f1\n",
      "WARNING:tensorflow:Learning rate reduction is conditioned on metric `val_f1_m` which is not available. Available metrics are: loss,dense_3_loss,dense_6_loss,dense_3_get_f1,dense_6_get_f1,val_loss,val_dense_3_loss,val_dense_6_loss,val_dense_3_get_f1,val_dense_6_get_f1,lr\n",
      "45/45 [==============================] - 8s 180ms/step - loss: 0.1905 - dense_3_loss: 0.1024 - dense_6_loss: 0.0881 - dense_3_get_f1: 0.9899 - dense_6_get_f1: 0.9910 - val_loss: 1.2446 - val_dense_3_loss: 0.6279 - val_dense_6_loss: 0.6167 - val_dense_3_get_f1: 0.7312 - val_dense_6_get_f1: 0.7262 - lr: 1.0000e-04\n",
      "Epoch 36/50\n",
      "45/45 [==============================] - ETA: 0s - loss: 0.1792 - dense_3_loss: 0.0961 - dense_6_loss: 0.0831 - dense_3_get_f1: 0.9920 - dense_6_get_f1: 0.9927WARNING:tensorflow:Can save best model only with val_f1_m available, skipping.\n",
      "WARNING:tensorflow:Early stopping conditioned on metric `val_f1_m` which is not available. Available metrics are: loss,dense_3_loss,dense_6_loss,dense_3_get_f1,dense_6_get_f1,val_loss,val_dense_3_loss,val_dense_6_loss,val_dense_3_get_f1,val_dense_6_get_f1\n",
      "WARNING:tensorflow:Learning rate reduction is conditioned on metric `val_f1_m` which is not available. Available metrics are: loss,dense_3_loss,dense_6_loss,dense_3_get_f1,dense_6_get_f1,val_loss,val_dense_3_loss,val_dense_6_loss,val_dense_3_get_f1,val_dense_6_get_f1,lr\n",
      "45/45 [==============================] - 9s 190ms/step - loss: 0.1792 - dense_3_loss: 0.0961 - dense_6_loss: 0.0831 - dense_3_get_f1: 0.9920 - dense_6_get_f1: 0.9927 - val_loss: 1.2925 - val_dense_3_loss: 0.6685 - val_dense_6_loss: 0.6240 - val_dense_3_get_f1: 0.7338 - val_dense_6_get_f1: 0.7416 - lr: 1.0000e-04\n",
      "Epoch 37/50\n",
      "45/45 [==============================] - ETA: 0s - loss: 0.1595 - dense_3_loss: 0.0853 - dense_6_loss: 0.0742 - dense_3_get_f1: 0.9937 - dense_6_get_f1: 0.9955WARNING:tensorflow:Can save best model only with val_f1_m available, skipping.\n",
      "WARNING:tensorflow:Early stopping conditioned on metric `val_f1_m` which is not available. Available metrics are: loss,dense_3_loss,dense_6_loss,dense_3_get_f1,dense_6_get_f1,val_loss,val_dense_3_loss,val_dense_6_loss,val_dense_3_get_f1,val_dense_6_get_f1\n",
      "WARNING:tensorflow:Learning rate reduction is conditioned on metric `val_f1_m` which is not available. Available metrics are: loss,dense_3_loss,dense_6_loss,dense_3_get_f1,dense_6_get_f1,val_loss,val_dense_3_loss,val_dense_6_loss,val_dense_3_get_f1,val_dense_6_get_f1,lr\n",
      "45/45 [==============================] - 8s 181ms/step - loss: 0.1595 - dense_3_loss: 0.0853 - dense_6_loss: 0.0742 - dense_3_get_f1: 0.9937 - dense_6_get_f1: 0.9955 - val_loss: 1.2684 - val_dense_3_loss: 0.6419 - val_dense_6_loss: 0.6265 - val_dense_3_get_f1: 0.7236 - val_dense_6_get_f1: 0.7288 - lr: 1.0000e-04\n",
      "Epoch 38/50\n",
      "45/45 [==============================] - ETA: 0s - loss: 0.1461 - dense_3_loss: 0.0771 - dense_6_loss: 0.0690 - dense_3_get_f1: 0.9927 - dense_6_get_f1: 0.9955WARNING:tensorflow:Can save best model only with val_f1_m available, skipping.\n",
      "WARNING:tensorflow:Early stopping conditioned on metric `val_f1_m` which is not available. Available metrics are: loss,dense_3_loss,dense_6_loss,dense_3_get_f1,dense_6_get_f1,val_loss,val_dense_3_loss,val_dense_6_loss,val_dense_3_get_f1,val_dense_6_get_f1\n",
      "WARNING:tensorflow:Learning rate reduction is conditioned on metric `val_f1_m` which is not available. Available metrics are: loss,dense_3_loss,dense_6_loss,dense_3_get_f1,dense_6_get_f1,val_loss,val_dense_3_loss,val_dense_6_loss,val_dense_3_get_f1,val_dense_6_get_f1,lr\n",
      "45/45 [==============================] - 8s 177ms/step - loss: 0.1461 - dense_3_loss: 0.0771 - dense_6_loss: 0.0690 - dense_3_get_f1: 0.9927 - dense_6_get_f1: 0.9955 - val_loss: 1.3447 - val_dense_3_loss: 0.6889 - val_dense_6_loss: 0.6558 - val_dense_3_get_f1: 0.7171 - val_dense_6_get_f1: 0.7210 - lr: 1.0000e-04\n",
      "Epoch 39/50\n",
      "45/45 [==============================] - ETA: 0s - loss: 0.1308 - dense_3_loss: 0.0674 - dense_6_loss: 0.0634 - dense_3_get_f1: 0.9945 - dense_6_get_f1: 0.9962WARNING:tensorflow:Can save best model only with val_f1_m available, skipping.\n"
     ]
    },
    {
     "name": "stdout",
     "output_type": "stream",
     "text": [
      "WARNING:tensorflow:Early stopping conditioned on metric `val_f1_m` which is not available. Available metrics are: loss,dense_3_loss,dense_6_loss,dense_3_get_f1,dense_6_get_f1,val_loss,val_dense_3_loss,val_dense_6_loss,val_dense_3_get_f1,val_dense_6_get_f1\n",
      "WARNING:tensorflow:Learning rate reduction is conditioned on metric `val_f1_m` which is not available. Available metrics are: loss,dense_3_loss,dense_6_loss,dense_3_get_f1,dense_6_get_f1,val_loss,val_dense_3_loss,val_dense_6_loss,val_dense_3_get_f1,val_dense_6_get_f1,lr\n",
      "45/45 [==============================] - 8s 177ms/step - loss: 0.1308 - dense_3_loss: 0.0674 - dense_6_loss: 0.0634 - dense_3_get_f1: 0.9945 - dense_6_get_f1: 0.9962 - val_loss: 1.3182 - val_dense_3_loss: 0.6668 - val_dense_6_loss: 0.6514 - val_dense_3_get_f1: 0.7197 - val_dense_6_get_f1: 0.7288 - lr: 1.0000e-04\n",
      "Epoch 40/50\n",
      "45/45 [==============================] - ETA: 0s - loss: 0.1197 - dense_3_loss: 0.0611 - dense_6_loss: 0.0585 - dense_3_get_f1: 0.9959 - dense_6_get_f1: 0.9969WARNING:tensorflow:Can save best model only with val_f1_m available, skipping.\n",
      "WARNING:tensorflow:Early stopping conditioned on metric `val_f1_m` which is not available. Available metrics are: loss,dense_3_loss,dense_6_loss,dense_3_get_f1,dense_6_get_f1,val_loss,val_dense_3_loss,val_dense_6_loss,val_dense_3_get_f1,val_dense_6_get_f1\n",
      "WARNING:tensorflow:Learning rate reduction is conditioned on metric `val_f1_m` which is not available. Available metrics are: loss,dense_3_loss,dense_6_loss,dense_3_get_f1,dense_6_get_f1,val_loss,val_dense_3_loss,val_dense_6_loss,val_dense_3_get_f1,val_dense_6_get_f1,lr\n",
      "45/45 [==============================] - 8s 182ms/step - loss: 0.1197 - dense_3_loss: 0.0611 - dense_6_loss: 0.0585 - dense_3_get_f1: 0.9959 - dense_6_get_f1: 0.9969 - val_loss: 1.3455 - val_dense_3_loss: 0.6869 - val_dense_6_loss: 0.6587 - val_dense_3_get_f1: 0.7236 - val_dense_6_get_f1: 0.7301 - lr: 1.0000e-04\n",
      "Epoch 41/50\n",
      "45/45 [==============================] - ETA: 0s - loss: 0.1100 - dense_3_loss: 0.0556 - dense_6_loss: 0.0544 - dense_3_get_f1: 0.9979 - dense_6_get_f1: 0.9972WARNING:tensorflow:Can save best model only with val_f1_m available, skipping.\n",
      "WARNING:tensorflow:Early stopping conditioned on metric `val_f1_m` which is not available. Available metrics are: loss,dense_3_loss,dense_6_loss,dense_3_get_f1,dense_6_get_f1,val_loss,val_dense_3_loss,val_dense_6_loss,val_dense_3_get_f1,val_dense_6_get_f1\n",
      "WARNING:tensorflow:Learning rate reduction is conditioned on metric `val_f1_m` which is not available. Available metrics are: loss,dense_3_loss,dense_6_loss,dense_3_get_f1,dense_6_get_f1,val_loss,val_dense_3_loss,val_dense_6_loss,val_dense_3_get_f1,val_dense_6_get_f1,lr\n",
      "45/45 [==============================] - 8s 185ms/step - loss: 0.1100 - dense_3_loss: 0.0556 - dense_6_loss: 0.0544 - dense_3_get_f1: 0.9979 - dense_6_get_f1: 0.9972 - val_loss: 1.3886 - val_dense_3_loss: 0.7133 - val_dense_6_loss: 0.6754 - val_dense_3_get_f1: 0.7353 - val_dense_6_get_f1: 0.7301 - lr: 1.0000e-04\n",
      "Epoch 42/50\n",
      "45/45 [==============================] - ETA: 0s - loss: 0.1018 - dense_3_loss: 0.0522 - dense_6_loss: 0.0496 - dense_3_get_f1: 0.9972 - dense_6_get_f1: 0.9976WARNING:tensorflow:Can save best model only with val_f1_m available, skipping.\n",
      "WARNING:tensorflow:Early stopping conditioned on metric `val_f1_m` which is not available. Available metrics are: loss,dense_3_loss,dense_6_loss,dense_3_get_f1,dense_6_get_f1,val_loss,val_dense_3_loss,val_dense_6_loss,val_dense_3_get_f1,val_dense_6_get_f1\n",
      "WARNING:tensorflow:Learning rate reduction is conditioned on metric `val_f1_m` which is not available. Available metrics are: loss,dense_3_loss,dense_6_loss,dense_3_get_f1,dense_6_get_f1,val_loss,val_dense_3_loss,val_dense_6_loss,val_dense_3_get_f1,val_dense_6_get_f1,lr\n",
      "45/45 [==============================] - 8s 181ms/step - loss: 0.1018 - dense_3_loss: 0.0522 - dense_6_loss: 0.0496 - dense_3_get_f1: 0.9972 - dense_6_get_f1: 0.9976 - val_loss: 1.4156 - val_dense_3_loss: 0.7283 - val_dense_6_loss: 0.6873 - val_dense_3_get_f1: 0.7249 - val_dense_6_get_f1: 0.7288 - lr: 1.0000e-04\n",
      "Epoch 43/50\n",
      "45/45 [==============================] - ETA: 0s - loss: 0.0904 - dense_3_loss: 0.0452 - dense_6_loss: 0.0452 - dense_3_get_f1: 0.9986 - dense_6_get_f1: 0.9986WARNING:tensorflow:Can save best model only with val_f1_m available, skipping.\n",
      "WARNING:tensorflow:Early stopping conditioned on metric `val_f1_m` which is not available. Available metrics are: loss,dense_3_loss,dense_6_loss,dense_3_get_f1,dense_6_get_f1,val_loss,val_dense_3_loss,val_dense_6_loss,val_dense_3_get_f1,val_dense_6_get_f1\n",
      "WARNING:tensorflow:Learning rate reduction is conditioned on metric `val_f1_m` which is not available. Available metrics are: loss,dense_3_loss,dense_6_loss,dense_3_get_f1,dense_6_get_f1,val_loss,val_dense_3_loss,val_dense_6_loss,val_dense_3_get_f1,val_dense_6_get_f1,lr\n",
      "45/45 [==============================] - 8s 176ms/step - loss: 0.0904 - dense_3_loss: 0.0452 - dense_6_loss: 0.0452 - dense_3_get_f1: 0.9986 - dense_6_get_f1: 0.9986 - val_loss: 1.4220 - val_dense_3_loss: 0.7298 - val_dense_6_loss: 0.6923 - val_dense_3_get_f1: 0.7236 - val_dense_6_get_f1: 0.7275 - lr: 1.0000e-04\n",
      "Epoch 44/50\n",
      "45/45 [==============================] - ETA: 0s - loss: 0.0844 - dense_3_loss: 0.0423 - dense_6_loss: 0.0421 - dense_3_get_f1: 0.9979 - dense_6_get_f1: 0.9979WARNING:tensorflow:Can save best model only with val_f1_m available, skipping.\n",
      "WARNING:tensorflow:Early stopping conditioned on metric `val_f1_m` which is not available. Available metrics are: loss,dense_3_loss,dense_6_loss,dense_3_get_f1,dense_6_get_f1,val_loss,val_dense_3_loss,val_dense_6_loss,val_dense_3_get_f1,val_dense_6_get_f1\n",
      "WARNING:tensorflow:Learning rate reduction is conditioned on metric `val_f1_m` which is not available. Available metrics are: loss,dense_3_loss,dense_6_loss,dense_3_get_f1,dense_6_get_f1,val_loss,val_dense_3_loss,val_dense_6_loss,val_dense_3_get_f1,val_dense_6_get_f1,lr\n",
      "45/45 [==============================] - 8s 176ms/step - loss: 0.0844 - dense_3_loss: 0.0423 - dense_6_loss: 0.0421 - dense_3_get_f1: 0.9979 - dense_6_get_f1: 0.9979 - val_loss: 1.4324 - val_dense_3_loss: 0.7343 - val_dense_6_loss: 0.6980 - val_dense_3_get_f1: 0.7275 - val_dense_6_get_f1: 0.7262 - lr: 1.0000e-04\n",
      "Epoch 45/50\n",
      "45/45 [==============================] - ETA: 0s - loss: 0.0781 - dense_3_loss: 0.0390 - dense_6_loss: 0.0391 - dense_3_get_f1: 0.9983 - dense_6_get_f1: 0.9983WARNING:tensorflow:Can save best model only with val_f1_m available, skipping.\n",
      "WARNING:tensorflow:Early stopping conditioned on metric `val_f1_m` which is not available. Available metrics are: loss,dense_3_loss,dense_6_loss,dense_3_get_f1,dense_6_get_f1,val_loss,val_dense_3_loss,val_dense_6_loss,val_dense_3_get_f1,val_dense_6_get_f1\n",
      "WARNING:tensorflow:Learning rate reduction is conditioned on metric `val_f1_m` which is not available. Available metrics are: loss,dense_3_loss,dense_6_loss,dense_3_get_f1,dense_6_get_f1,val_loss,val_dense_3_loss,val_dense_6_loss,val_dense_3_get_f1,val_dense_6_get_f1,lr\n",
      "45/45 [==============================] - 8s 184ms/step - loss: 0.0781 - dense_3_loss: 0.0390 - dense_6_loss: 0.0391 - dense_3_get_f1: 0.9983 - dense_6_get_f1: 0.9983 - val_loss: 1.5038 - val_dense_3_loss: 0.7854 - val_dense_6_loss: 0.7185 - val_dense_3_get_f1: 0.7288 - val_dense_6_get_f1: 0.7288 - lr: 1.0000e-04\n",
      "Epoch 46/50\n",
      "45/45 [==============================] - ETA: 0s - loss: 0.0704 - dense_3_loss: 0.0346 - dense_6_loss: 0.0358 - dense_3_get_f1: 0.9993 - dense_6_get_f1: 0.9986WARNING:tensorflow:Can save best model only with val_f1_m available, skipping.\n",
      "WARNING:tensorflow:Early stopping conditioned on metric `val_f1_m` which is not available. Available metrics are: loss,dense_3_loss,dense_6_loss,dense_3_get_f1,dense_6_get_f1,val_loss,val_dense_3_loss,val_dense_6_loss,val_dense_3_get_f1,val_dense_6_get_f1\n",
      "WARNING:tensorflow:Learning rate reduction is conditioned on metric `val_f1_m` which is not available. Available metrics are: loss,dense_3_loss,dense_6_loss,dense_3_get_f1,dense_6_get_f1,val_loss,val_dense_3_loss,val_dense_6_loss,val_dense_3_get_f1,val_dense_6_get_f1,lr\n",
      "45/45 [==============================] - 8s 182ms/step - loss: 0.0704 - dense_3_loss: 0.0346 - dense_6_loss: 0.0358 - dense_3_get_f1: 0.9993 - dense_6_get_f1: 0.9986 - val_loss: 1.5303 - val_dense_3_loss: 0.8033 - val_dense_6_loss: 0.7271 - val_dense_3_get_f1: 0.7275 - val_dense_6_get_f1: 0.7327 - lr: 1.0000e-04\n"
     ]
    },
    {
     "name": "stdout",
     "output_type": "stream",
     "text": [
      "Epoch 47/50\n",
      "45/45 [==============================] - ETA: 0s - loss: 0.0632 - dense_3_loss: 0.0306 - dense_6_loss: 0.0326 - dense_3_get_f1: 0.9997 - dense_6_get_f1: 0.9990WARNING:tensorflow:Can save best model only with val_f1_m available, skipping.\n",
      "WARNING:tensorflow:Early stopping conditioned on metric `val_f1_m` which is not available. Available metrics are: loss,dense_3_loss,dense_6_loss,dense_3_get_f1,dense_6_get_f1,val_loss,val_dense_3_loss,val_dense_6_loss,val_dense_3_get_f1,val_dense_6_get_f1\n",
      "WARNING:tensorflow:Learning rate reduction is conditioned on metric `val_f1_m` which is not available. Available metrics are: loss,dense_3_loss,dense_6_loss,dense_3_get_f1,dense_6_get_f1,val_loss,val_dense_3_loss,val_dense_6_loss,val_dense_3_get_f1,val_dense_6_get_f1,lr\n",
      "45/45 [==============================] - 8s 180ms/step - loss: 0.0632 - dense_3_loss: 0.0306 - dense_6_loss: 0.0326 - dense_3_get_f1: 0.9997 - dense_6_get_f1: 0.9990 - val_loss: 1.5264 - val_dense_3_loss: 0.7918 - val_dense_6_loss: 0.7346 - val_dense_3_get_f1: 0.7301 - val_dense_6_get_f1: 0.7340 - lr: 1.0000e-04\n",
      "Epoch 48/50\n",
      "45/45 [==============================] - ETA: 0s - loss: 0.0624 - dense_3_loss: 0.0308 - dense_6_loss: 0.0316 - dense_3_get_f1: 0.9983 - dense_6_get_f1: 0.9990WARNING:tensorflow:Can save best model only with val_f1_m available, skipping.\n",
      "WARNING:tensorflow:Early stopping conditioned on metric `val_f1_m` which is not available. Available metrics are: loss,dense_3_loss,dense_6_loss,dense_3_get_f1,dense_6_get_f1,val_loss,val_dense_3_loss,val_dense_6_loss,val_dense_3_get_f1,val_dense_6_get_f1\n",
      "WARNING:tensorflow:Learning rate reduction is conditioned on metric `val_f1_m` which is not available. Available metrics are: loss,dense_3_loss,dense_6_loss,dense_3_get_f1,dense_6_get_f1,val_loss,val_dense_3_loss,val_dense_6_loss,val_dense_3_get_f1,val_dense_6_get_f1,lr\n",
      "45/45 [==============================] - 8s 176ms/step - loss: 0.0624 - dense_3_loss: 0.0308 - dense_6_loss: 0.0316 - dense_3_get_f1: 0.9983 - dense_6_get_f1: 0.9990 - val_loss: 1.5221 - val_dense_3_loss: 0.7868 - val_dense_6_loss: 0.7353 - val_dense_3_get_f1: 0.7275 - val_dense_6_get_f1: 0.7301 - lr: 1.0000e-04\n",
      "Epoch 49/50\n",
      "45/45 [==============================] - ETA: 0s - loss: 0.0540 - dense_3_loss: 0.0258 - dense_6_loss: 0.0282 - dense_3_get_f1: 0.9997 - dense_6_get_f1: 0.9997WARNING:tensorflow:Can save best model only with val_f1_m available, skipping.\n",
      "WARNING:tensorflow:Early stopping conditioned on metric `val_f1_m` which is not available. Available metrics are: loss,dense_3_loss,dense_6_loss,dense_3_get_f1,dense_6_get_f1,val_loss,val_dense_3_loss,val_dense_6_loss,val_dense_3_get_f1,val_dense_6_get_f1\n",
      "WARNING:tensorflow:Learning rate reduction is conditioned on metric `val_f1_m` which is not available. Available metrics are: loss,dense_3_loss,dense_6_loss,dense_3_get_f1,dense_6_get_f1,val_loss,val_dense_3_loss,val_dense_6_loss,val_dense_3_get_f1,val_dense_6_get_f1,lr\n",
      "45/45 [==============================] - 8s 177ms/step - loss: 0.0540 - dense_3_loss: 0.0258 - dense_6_loss: 0.0282 - dense_3_get_f1: 0.9997 - dense_6_get_f1: 0.9997 - val_loss: 1.5307 - val_dense_3_loss: 0.7937 - val_dense_6_loss: 0.7370 - val_dense_3_get_f1: 0.7262 - val_dense_6_get_f1: 0.7236 - lr: 1.0000e-04\n",
      "Epoch 50/50\n",
      "45/45 [==============================] - ETA: 0s - loss: 0.0511 - dense_3_loss: 0.0245 - dense_6_loss: 0.0266 - dense_3_get_f1: 0.9997 - dense_6_get_f1: 0.9997WARNING:tensorflow:Can save best model only with val_f1_m available, skipping.\n",
      "WARNING:tensorflow:Early stopping conditioned on metric `val_f1_m` which is not available. Available metrics are: loss,dense_3_loss,dense_6_loss,dense_3_get_f1,dense_6_get_f1,val_loss,val_dense_3_loss,val_dense_6_loss,val_dense_3_get_f1,val_dense_6_get_f1\n",
      "WARNING:tensorflow:Learning rate reduction is conditioned on metric `val_f1_m` which is not available. Available metrics are: loss,dense_3_loss,dense_6_loss,dense_3_get_f1,dense_6_get_f1,val_loss,val_dense_3_loss,val_dense_6_loss,val_dense_3_get_f1,val_dense_6_get_f1,lr\n",
      "45/45 [==============================] - 8s 185ms/step - loss: 0.0511 - dense_3_loss: 0.0245 - dense_6_loss: 0.0266 - dense_3_get_f1: 0.9997 - dense_6_get_f1: 0.9997 - val_loss: 1.5614 - val_dense_3_loss: 0.8076 - val_dense_6_loss: 0.7538 - val_dense_3_get_f1: 0.7223 - val_dense_6_get_f1: 0.7275 - lr: 1.0000e-04\n"
     ]
    }
   ],
   "source": [
    "h1 = model.fit([padded_comments_train, np.array(features_train.values)], y_train,\n",
    "               batch_size=64,\n",
    "               epochs=50,\n",
    "               verbose=1, callbacks=[ checkpoint, earlystop, reduce_lr],  #tensorboard\n",
    "               validation_data=([padded_comments_test, np.array(features_test.values)], y_test))"
   ]
  },
  {
   "cell_type": "code",
   "execution_count": 27,
   "metadata": {
    "pycharm": {
     "is_executing": true
    }
   },
   "outputs": [
    {
     "name": "stdout",
     "output_type": "stream",
     "text": [
      "23/23 [==============================] - 1s 30ms/step - loss: 1.5614 - dense_3_loss: 0.8076 - dense_6_loss: 0.7538 - dense_3_get_f1: 0.7260 - dense_6_get_f1: 0.7315\n",
      "f1 0.7260375022888184\n"
     ]
    }
   ],
   "source": [
    "score_1 = model.evaluate([padded_comments_test,features_test], y_test)\n",
    "score_1\n",
    "print('f1',score_1[3])"
   ]
  },
  {
   "cell_type": "code",
   "execution_count": 32,
   "metadata": {},
   "outputs": [
    {
     "name": "stdout",
     "output_type": "stream",
     "text": [
      "(715, 107)\n",
      "(715, 2)\n"
     ]
    }
   ],
   "source": [
    "print(features_test.shape)\n",
    "print(y_test.shape)"
   ]
  },
  {
   "cell_type": "code",
   "execution_count": 33,
   "metadata": {
    "pycharm": {
     "is_executing": true,
     "name": "#%%\n"
    }
   },
   "outputs": [
    {
     "data": {
      "image/png": "[encoded data removed]",
      "text/plain": [
       "<Figure size 432x288 with 1 Axes>"
      ]
     },
     "metadata": {
      "needs_background": "light"
     },
     "output_type": "display_data"
    }
   ],
   "source": [
    "plt.plot(h1.history['loss'][1:])\n",
    "plt.plot(h1.history['val_loss'][1:])\n",
    "plt.title('Model metric')\n",
    "plt.ylabel('F1 metric')\n",
    "plt.xlabel('epoch')\n",
    "plt.legend(['train','Validation'], loc='upper left')\n",
    "plt.savefig('CNN2_f1.png')\n",
    "plt.show()"
   ]
  },
  {
   "cell_type": "code",
   "execution_count": null,
   "metadata": {},
   "outputs": [],
   "source": []
  }
 ],
 "metadata": {
  "kernelspec": {
   "display_name": "Python 3 (ipykernel)",
   "language": "python",
   "name": "python3"
  },
  "language_info": {
   "codemirror_mode": {
    "name": "ipython",
    "version": 3
   },
   "file_extension": ".py",
   "mimetype": "text/x-python",
   "name": "python",
   "nbconvert_exporter": "python",
   "pygments_lexer": "ipython3",
   "version": "3.7.8"
  }
 },
 "nbformat": 4,
 "nbformat_minor": 1
}